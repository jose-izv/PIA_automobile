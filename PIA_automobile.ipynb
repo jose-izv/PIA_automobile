{
  "nbformat": 4,
  "nbformat_minor": 0,
  "metadata": {
    "colab": {
      "provenance": [],
      "include_colab_link": true
    },
    "kernelspec": {
      "name": "python3",
      "display_name": "Python 3"
    },
    "language_info": {
      "name": "python"
    }
  },
  "cells": [
    {
      "cell_type": "markdown",
      "metadata": {
        "id": "view-in-github",
        "colab_type": "text"
      },
      "source": [
        "<a href=\"https://colab.research.google.com/github/jose-izv/PIA_automobile/blob/main/PIA_automobile.ipynb\" target=\"_parent\"><img src=\"https://colab.research.google.com/assets/colab-badge.svg\" alt=\"Open In Colab\"/></a>"
      ]
    },
    {
      "cell_type": "markdown",
      "source": [
        "# Importación de datos"
      ],
      "metadata": {
        "id": "fawZtFO9Bhlg"
      }
    },
    {
      "cell_type": "code",
      "execution_count": 1,
      "metadata": {
        "id": "HOOViqU2BUv4"
      },
      "outputs": [],
      "source": [
        "!wget -qP datasets/ https://archive.ics.uci.edu/ml/machine-learning-databases/autos/imports-85.data\n",
        "\n",
        "!wget -qP datasets/ https://archive.ics.uci.edu/ml/machine-learning-databases/autos/imports-85.names"
      ]
    },
    {
      "cell_type": "markdown",
      "source": [
        "## Asignar dataset"
      ],
      "metadata": {
        "id": "FGyyOEe9B2Lg"
      }
    },
    {
      "cell_type": "code",
      "source": [
        "import pandas as pd\n",
        "import numpy as np"
      ],
      "metadata": {
        "id": "Jkj7cEJUB8t6"
      },
      "execution_count": 2,
      "outputs": []
    },
    {
      "cell_type": "code",
      "source": [
        "feature_names = ['symboling', 'normalized-losses', 'make', 'fuel-type', 'aspiration', 'num-of-doors',\n",
        "             'body-style', 'drive-wheels', 'engine-location', 'wheel-base', 'length', 'width',\n",
        "             'height', 'curb-weight', 'engine-type', 'num-of-cylinders', 'engine-size', 'fuel-system',\n",
        "             'bore', 'stroke', 'compression-ratio', 'horsepower', 'peak-rpm', 'city-mpg',\n",
        "             'highway-mpg', 'price']\n",
        "\n",
        "df = pd.read_csv('datasets/imports-85.data', names = feature_names, na_values = '?')"
      ],
      "metadata": {
        "id": "sHUs_7HjB_8p"
      },
      "execution_count": 3,
      "outputs": []
    },
    {
      "cell_type": "code",
      "source": [
        "print(len(df))"
      ],
      "metadata": {
        "colab": {
          "base_uri": "https://localhost:8080/"
        },
        "id": "k-1PNfazkw9i",
        "outputId": "57ceeeb0-a575-4168-efd3-0edb930fa875"
      },
      "execution_count": 4,
      "outputs": [
        {
          "output_type": "stream",
          "name": "stdout",
          "text": [
            "205\n"
          ]
        }
      ]
    },
    {
      "cell_type": "code",
      "source": [
        "df.head()"
      ],
      "metadata": {
        "id": "v5_GkRRcCIyT",
        "colab": {
          "base_uri": "https://localhost:8080/",
          "height": 349
        },
        "outputId": "6993e98a-548d-4a27-d9f8-05ca937dd9b2"
      },
      "execution_count": 5,
      "outputs": [
        {
          "output_type": "execute_result",
          "data": {
            "text/plain": [
              "   symboling  normalized-losses         make fuel-type aspiration  \\\n",
              "0          3                NaN  alfa-romero       gas        std   \n",
              "1          3                NaN  alfa-romero       gas        std   \n",
              "2          1                NaN  alfa-romero       gas        std   \n",
              "3          2              164.0         audi       gas        std   \n",
              "4          2              164.0         audi       gas        std   \n",
              "\n",
              "  num-of-doors   body-style drive-wheels engine-location  wheel-base  ...  \\\n",
              "0          two  convertible          rwd           front        88.6  ...   \n",
              "1          two  convertible          rwd           front        88.6  ...   \n",
              "2          two    hatchback          rwd           front        94.5  ...   \n",
              "3         four        sedan          fwd           front        99.8  ...   \n",
              "4         four        sedan          4wd           front        99.4  ...   \n",
              "\n",
              "   engine-size  fuel-system  bore  stroke compression-ratio horsepower  \\\n",
              "0          130         mpfi  3.47    2.68               9.0      111.0   \n",
              "1          130         mpfi  3.47    2.68               9.0      111.0   \n",
              "2          152         mpfi  2.68    3.47               9.0      154.0   \n",
              "3          109         mpfi  3.19    3.40              10.0      102.0   \n",
              "4          136         mpfi  3.19    3.40               8.0      115.0   \n",
              "\n",
              "   peak-rpm city-mpg  highway-mpg    price  \n",
              "0    5000.0       21           27  13495.0  \n",
              "1    5000.0       21           27  16500.0  \n",
              "2    5000.0       19           26  16500.0  \n",
              "3    5500.0       24           30  13950.0  \n",
              "4    5500.0       18           22  17450.0  \n",
              "\n",
              "[5 rows x 26 columns]"
            ],
            "text/html": [
              "\n",
              "  <div id=\"df-4211870e-755d-4a26-81df-0b7455205a82\">\n",
              "    <div class=\"colab-df-container\">\n",
              "      <div>\n",
              "<style scoped>\n",
              "    .dataframe tbody tr th:only-of-type {\n",
              "        vertical-align: middle;\n",
              "    }\n",
              "\n",
              "    .dataframe tbody tr th {\n",
              "        vertical-align: top;\n",
              "    }\n",
              "\n",
              "    .dataframe thead th {\n",
              "        text-align: right;\n",
              "    }\n",
              "</style>\n",
              "<table border=\"1\" class=\"dataframe\">\n",
              "  <thead>\n",
              "    <tr style=\"text-align: right;\">\n",
              "      <th></th>\n",
              "      <th>symboling</th>\n",
              "      <th>normalized-losses</th>\n",
              "      <th>make</th>\n",
              "      <th>fuel-type</th>\n",
              "      <th>aspiration</th>\n",
              "      <th>num-of-doors</th>\n",
              "      <th>body-style</th>\n",
              "      <th>drive-wheels</th>\n",
              "      <th>engine-location</th>\n",
              "      <th>wheel-base</th>\n",
              "      <th>...</th>\n",
              "      <th>engine-size</th>\n",
              "      <th>fuel-system</th>\n",
              "      <th>bore</th>\n",
              "      <th>stroke</th>\n",
              "      <th>compression-ratio</th>\n",
              "      <th>horsepower</th>\n",
              "      <th>peak-rpm</th>\n",
              "      <th>city-mpg</th>\n",
              "      <th>highway-mpg</th>\n",
              "      <th>price</th>\n",
              "    </tr>\n",
              "  </thead>\n",
              "  <tbody>\n",
              "    <tr>\n",
              "      <th>0</th>\n",
              "      <td>3</td>\n",
              "      <td>NaN</td>\n",
              "      <td>alfa-romero</td>\n",
              "      <td>gas</td>\n",
              "      <td>std</td>\n",
              "      <td>two</td>\n",
              "      <td>convertible</td>\n",
              "      <td>rwd</td>\n",
              "      <td>front</td>\n",
              "      <td>88.6</td>\n",
              "      <td>...</td>\n",
              "      <td>130</td>\n",
              "      <td>mpfi</td>\n",
              "      <td>3.47</td>\n",
              "      <td>2.68</td>\n",
              "      <td>9.0</td>\n",
              "      <td>111.0</td>\n",
              "      <td>5000.0</td>\n",
              "      <td>21</td>\n",
              "      <td>27</td>\n",
              "      <td>13495.0</td>\n",
              "    </tr>\n",
              "    <tr>\n",
              "      <th>1</th>\n",
              "      <td>3</td>\n",
              "      <td>NaN</td>\n",
              "      <td>alfa-romero</td>\n",
              "      <td>gas</td>\n",
              "      <td>std</td>\n",
              "      <td>two</td>\n",
              "      <td>convertible</td>\n",
              "      <td>rwd</td>\n",
              "      <td>front</td>\n",
              "      <td>88.6</td>\n",
              "      <td>...</td>\n",
              "      <td>130</td>\n",
              "      <td>mpfi</td>\n",
              "      <td>3.47</td>\n",
              "      <td>2.68</td>\n",
              "      <td>9.0</td>\n",
              "      <td>111.0</td>\n",
              "      <td>5000.0</td>\n",
              "      <td>21</td>\n",
              "      <td>27</td>\n",
              "      <td>16500.0</td>\n",
              "    </tr>\n",
              "    <tr>\n",
              "      <th>2</th>\n",
              "      <td>1</td>\n",
              "      <td>NaN</td>\n",
              "      <td>alfa-romero</td>\n",
              "      <td>gas</td>\n",
              "      <td>std</td>\n",
              "      <td>two</td>\n",
              "      <td>hatchback</td>\n",
              "      <td>rwd</td>\n",
              "      <td>front</td>\n",
              "      <td>94.5</td>\n",
              "      <td>...</td>\n",
              "      <td>152</td>\n",
              "      <td>mpfi</td>\n",
              "      <td>2.68</td>\n",
              "      <td>3.47</td>\n",
              "      <td>9.0</td>\n",
              "      <td>154.0</td>\n",
              "      <td>5000.0</td>\n",
              "      <td>19</td>\n",
              "      <td>26</td>\n",
              "      <td>16500.0</td>\n",
              "    </tr>\n",
              "    <tr>\n",
              "      <th>3</th>\n",
              "      <td>2</td>\n",
              "      <td>164.0</td>\n",
              "      <td>audi</td>\n",
              "      <td>gas</td>\n",
              "      <td>std</td>\n",
              "      <td>four</td>\n",
              "      <td>sedan</td>\n",
              "      <td>fwd</td>\n",
              "      <td>front</td>\n",
              "      <td>99.8</td>\n",
              "      <td>...</td>\n",
              "      <td>109</td>\n",
              "      <td>mpfi</td>\n",
              "      <td>3.19</td>\n",
              "      <td>3.40</td>\n",
              "      <td>10.0</td>\n",
              "      <td>102.0</td>\n",
              "      <td>5500.0</td>\n",
              "      <td>24</td>\n",
              "      <td>30</td>\n",
              "      <td>13950.0</td>\n",
              "    </tr>\n",
              "    <tr>\n",
              "      <th>4</th>\n",
              "      <td>2</td>\n",
              "      <td>164.0</td>\n",
              "      <td>audi</td>\n",
              "      <td>gas</td>\n",
              "      <td>std</td>\n",
              "      <td>four</td>\n",
              "      <td>sedan</td>\n",
              "      <td>4wd</td>\n",
              "      <td>front</td>\n",
              "      <td>99.4</td>\n",
              "      <td>...</td>\n",
              "      <td>136</td>\n",
              "      <td>mpfi</td>\n",
              "      <td>3.19</td>\n",
              "      <td>3.40</td>\n",
              "      <td>8.0</td>\n",
              "      <td>115.0</td>\n",
              "      <td>5500.0</td>\n",
              "      <td>18</td>\n",
              "      <td>22</td>\n",
              "      <td>17450.0</td>\n",
              "    </tr>\n",
              "  </tbody>\n",
              "</table>\n",
              "<p>5 rows × 26 columns</p>\n",
              "</div>\n",
              "      <button class=\"colab-df-convert\" onclick=\"convertToInteractive('df-4211870e-755d-4a26-81df-0b7455205a82')\"\n",
              "              title=\"Convert this dataframe to an interactive table.\"\n",
              "              style=\"display:none;\">\n",
              "        \n",
              "  <svg xmlns=\"http://www.w3.org/2000/svg\" height=\"24px\"viewBox=\"0 0 24 24\"\n",
              "       width=\"24px\">\n",
              "    <path d=\"M0 0h24v24H0V0z\" fill=\"none\"/>\n",
              "    <path d=\"M18.56 5.44l.94 2.06.94-2.06 2.06-.94-2.06-.94-.94-2.06-.94 2.06-2.06.94zm-11 1L8.5 8.5l.94-2.06 2.06-.94-2.06-.94L8.5 2.5l-.94 2.06-2.06.94zm10 10l.94 2.06.94-2.06 2.06-.94-2.06-.94-.94-2.06-.94 2.06-2.06.94z\"/><path d=\"M17.41 7.96l-1.37-1.37c-.4-.4-.92-.59-1.43-.59-.52 0-1.04.2-1.43.59L10.3 9.45l-7.72 7.72c-.78.78-.78 2.05 0 2.83L4 21.41c.39.39.9.59 1.41.59.51 0 1.02-.2 1.41-.59l7.78-7.78 2.81-2.81c.8-.78.8-2.07 0-2.86zM5.41 20L4 18.59l7.72-7.72 1.47 1.35L5.41 20z\"/>\n",
              "  </svg>\n",
              "      </button>\n",
              "      \n",
              "  <style>\n",
              "    .colab-df-container {\n",
              "      display:flex;\n",
              "      flex-wrap:wrap;\n",
              "      gap: 12px;\n",
              "    }\n",
              "\n",
              "    .colab-df-convert {\n",
              "      background-color: #E8F0FE;\n",
              "      border: none;\n",
              "      border-radius: 50%;\n",
              "      cursor: pointer;\n",
              "      display: none;\n",
              "      fill: #1967D2;\n",
              "      height: 32px;\n",
              "      padding: 0 0 0 0;\n",
              "      width: 32px;\n",
              "    }\n",
              "\n",
              "    .colab-df-convert:hover {\n",
              "      background-color: #E2EBFA;\n",
              "      box-shadow: 0px 1px 2px rgba(60, 64, 67, 0.3), 0px 1px 3px 1px rgba(60, 64, 67, 0.15);\n",
              "      fill: #174EA6;\n",
              "    }\n",
              "\n",
              "    [theme=dark] .colab-df-convert {\n",
              "      background-color: #3B4455;\n",
              "      fill: #D2E3FC;\n",
              "    }\n",
              "\n",
              "    [theme=dark] .colab-df-convert:hover {\n",
              "      background-color: #434B5C;\n",
              "      box-shadow: 0px 1px 3px 1px rgba(0, 0, 0, 0.15);\n",
              "      filter: drop-shadow(0px 1px 2px rgba(0, 0, 0, 0.3));\n",
              "      fill: #FFFFFF;\n",
              "    }\n",
              "  </style>\n",
              "\n",
              "      <script>\n",
              "        const buttonEl =\n",
              "          document.querySelector('#df-4211870e-755d-4a26-81df-0b7455205a82 button.colab-df-convert');\n",
              "        buttonEl.style.display =\n",
              "          google.colab.kernel.accessAllowed ? 'block' : 'none';\n",
              "\n",
              "        async function convertToInteractive(key) {\n",
              "          const element = document.querySelector('#df-4211870e-755d-4a26-81df-0b7455205a82');\n",
              "          const dataTable =\n",
              "            await google.colab.kernel.invokeFunction('convertToInteractive',\n",
              "                                                     [key], {});\n",
              "          if (!dataTable) return;\n",
              "\n",
              "          const docLinkHtml = 'Like what you see? Visit the ' +\n",
              "            '<a target=\"_blank\" href=https://colab.research.google.com/notebooks/data_table.ipynb>data table notebook</a>'\n",
              "            + ' to learn more about interactive tables.';\n",
              "          element.innerHTML = '';\n",
              "          dataTable['output_type'] = 'display_data';\n",
              "          await google.colab.output.renderOutput(dataTable, element);\n",
              "          const docLink = document.createElement('div');\n",
              "          docLink.innerHTML = docLinkHtml;\n",
              "          element.appendChild(docLink);\n",
              "        }\n",
              "      </script>\n",
              "    </div>\n",
              "  </div>\n",
              "  "
            ]
          },
          "metadata": {},
          "execution_count": 5
        }
      ]
    },
    {
      "cell_type": "code",
      "source": [
        "df.dtypes"
      ],
      "metadata": {
        "id": "2y3KxSY3kv-z",
        "colab": {
          "base_uri": "https://localhost:8080/"
        },
        "outputId": "d8eeef31-1c4b-4ff4-9712-62c60324f990"
      },
      "execution_count": 6,
      "outputs": [
        {
          "output_type": "execute_result",
          "data": {
            "text/plain": [
              "symboling              int64\n",
              "normalized-losses    float64\n",
              "make                  object\n",
              "fuel-type             object\n",
              "aspiration            object\n",
              "num-of-doors          object\n",
              "body-style            object\n",
              "drive-wheels          object\n",
              "engine-location       object\n",
              "wheel-base           float64\n",
              "length               float64\n",
              "width                float64\n",
              "height               float64\n",
              "curb-weight            int64\n",
              "engine-type           object\n",
              "num-of-cylinders      object\n",
              "engine-size            int64\n",
              "fuel-system           object\n",
              "bore                 float64\n",
              "stroke               float64\n",
              "compression-ratio    float64\n",
              "horsepower           float64\n",
              "peak-rpm             float64\n",
              "city-mpg               int64\n",
              "highway-mpg            int64\n",
              "price                float64\n",
              "dtype: object"
            ]
          },
          "metadata": {},
          "execution_count": 6
        }
      ]
    },
    {
      "cell_type": "markdown",
      "source": [
        "# Preparación de los datos"
      ],
      "metadata": {
        "id": "rgEzhBg1CNtF"
      }
    },
    {
      "cell_type": "code",
      "source": [
        "def print_cols_with_missing_values(df):\n",
        "  cols_with_missing = df.isnull().sum()\n",
        "  print(cols_with_missing[cols_with_missing > 0])\n",
        "\n",
        "print_cols_with_missing_values(df)"
      ],
      "metadata": {
        "id": "UFvar4-nCSpR",
        "colab": {
          "base_uri": "https://localhost:8080/"
        },
        "outputId": "ce389b11-1ab5-459c-a166-f5c45af17353"
      },
      "execution_count": 7,
      "outputs": [
        {
          "output_type": "stream",
          "name": "stdout",
          "text": [
            "normalized-losses    41\n",
            "num-of-doors          2\n",
            "bore                  4\n",
            "stroke                4\n",
            "horsepower            2\n",
            "peak-rpm              2\n",
            "price                 4\n",
            "dtype: int64\n"
          ]
        }
      ]
    },
    {
      "cell_type": "code",
      "source": [
        "df['normalized-losses'].fillna(df['normalized-losses'].mean(), inplace=True)\n",
        "df['bore'].fillna(df['bore'].mean(), inplace=True)\n",
        "df['stroke'].fillna(df['stroke'].mean(), inplace=True)\n",
        "df['horsepower'].fillna(df['horsepower'].mean(), inplace=True)\n",
        "df['peak-rpm'].fillna(df['peak-rpm'].mean(), inplace=True)\n",
        "df['num-of-doors'].fillna(df['num-of-doors'].mode()[0], inplace=True)\n",
        "df.dropna(subset=['price'], inplace=True)\n",
        "df.reset_index(drop = True, inplace = True)\n",
        "print_cols_with_missing_values(df)"
      ],
      "metadata": {
        "id": "_XwDGpuoCiHD",
        "outputId": "606bd5ee-ea3c-4dbc-983a-6935c9284256",
        "colab": {
          "base_uri": "https://localhost:8080/"
        }
      },
      "execution_count": 13,
      "outputs": [
        {
          "output_type": "stream",
          "name": "stdout",
          "text": [
            "Series([], dtype: int64)\n"
          ]
        }
      ]
    },
    {
      "cell_type": "markdown",
      "source": [
        "# Normalización de los datos"
      ],
      "metadata": {
        "id": "IwacvTHBC5Mp"
      }
    },
    {
      "cell_type": "code",
      "source": [
        "target = 'price'\n",
        "\n",
        "numeric_feature_names = df.select_dtypes(include=['int64', 'float64']).columns.tolist()\n",
        "numeric_feature_names.remove(target)\n",
        "categorical_feature_names = df.select_dtypes(include=['object']).columns.tolist()\n",
        "\n",
        "all_feature_names = numeric_feature_names + categorical_feature_names\n",
        "\n",
        "print(f'Propiedades numéricas: {numeric_feature_names} ({len(numeric_feature_names)})')\n",
        "print(f'Propiedades categóricas: {categorical_feature_names} ({len(categorical_feature_names)})')\n",
        "print(f'Propiedad objetivo: {target}')"
      ],
      "metadata": {
        "id": "8388iEvGC_bZ",
        "colab": {
          "base_uri": "https://localhost:8080/"
        },
        "outputId": "8c6fe6fd-886a-450c-d167-42983d227f94"
      },
      "execution_count": 14,
      "outputs": [
        {
          "output_type": "stream",
          "name": "stdout",
          "text": [
            "Propiedades numéricas: ['symboling', 'normalized-losses', 'wheel-base', 'length', 'width', 'height', 'curb-weight', 'engine-size', 'bore', 'stroke', 'compression-ratio', 'horsepower', 'peak-rpm', 'city-mpg', 'highway-mpg'] (15)\n",
            "Propiedades categóricas: ['make', 'fuel-type', 'aspiration', 'num-of-doors', 'body-style', 'drive-wheels', 'engine-location', 'engine-type', 'num-of-cylinders', 'fuel-system'] (10)\n",
            "Propiedad objetivo: price\n"
          ]
        }
      ]
    },
    {
      "cell_type": "code",
      "source": [
        "import matplotlib.pyplot as plt\n",
        "df[numeric_feature_names].hist(ax = plt.figure(figsize = (15, 15)).gca())"
      ],
      "metadata": {
        "id": "7DS5u3BLDFrh",
        "colab": {
          "base_uri": "https://localhost:8080/",
          "height": 1000
        },
        "outputId": "d7ca74d1-982e-4eed-ded8-65ae771d0f26"
      },
      "execution_count": 15,
      "outputs": [
        {
          "output_type": "stream",
          "name": "stderr",
          "text": [
            "<ipython-input-15-8a11ce591e43>:2: UserWarning: To output multiple subplots, the figure containing the passed axes is being cleared.\n",
            "  df[numeric_feature_names].hist(ax = plt.figure(figsize = (15, 15)).gca())\n"
          ]
        },
        {
          "output_type": "execute_result",
          "data": {
            "text/plain": [
              "array([[<Axes: title={'center': 'symboling'}>,\n",
              "        <Axes: title={'center': 'normalized-losses'}>,\n",
              "        <Axes: title={'center': 'wheel-base'}>,\n",
              "        <Axes: title={'center': 'length'}>],\n",
              "       [<Axes: title={'center': 'width'}>,\n",
              "        <Axes: title={'center': 'height'}>,\n",
              "        <Axes: title={'center': 'curb-weight'}>,\n",
              "        <Axes: title={'center': 'engine-size'}>],\n",
              "       [<Axes: title={'center': 'bore'}>,\n",
              "        <Axes: title={'center': 'stroke'}>,\n",
              "        <Axes: title={'center': 'compression-ratio'}>,\n",
              "        <Axes: title={'center': 'horsepower'}>],\n",
              "       [<Axes: title={'center': 'peak-rpm'}>,\n",
              "        <Axes: title={'center': 'city-mpg'}>,\n",
              "        <Axes: title={'center': 'highway-mpg'}>, <Axes: >]], dtype=object)"
            ]
          },
          "metadata": {},
          "execution_count": 15
        },
        {
          "output_type": "display_data",
          "data": {
            "text/plain": [
              "<Figure size 1080x1080 with 16 Axes>"
            ],
            "image/png": "[encoded data removed]"
          },
          "metadata": {
            "needs_background": "light"
          }
        }
      ]
    },
    {
      "cell_type": "code",
      "source": [
        "import seaborn as sns\n",
        "import tempfile\n",
        "def draw_hist_boxplot(df, feature_name):\n",
        "  sns.boxplot(x = feature_name, data = df)\n",
        "  sns.stripplot(x = feature_name, data = df, color = \"#474646\")\n",
        "  plt.show()\n",
        "\n",
        "def replace_outliers_with_median(df, feature_name):\n",
        "  Q1 = df[feature_name].quantile(0.25)\n",
        "  median = df[feature_name].quantile(0.5)\n",
        "  Q3 = df[feature_name].quantile(0.75)\n",
        "  IQR = Q3 - Q1\n",
        "  lower_whisker = Q1 - 1.5 * IQR\n",
        "  upper_whisker = Q3 + 1.5 * IQR\n",
        "  df[feature_name] = np.where((df[feature_name] < lower_whisker) | \n",
        "                              (df[feature_name] > upper_whisker), \n",
        "                                median, \n",
        "                                df[feature_name])"
      ],
      "metadata": {
        "id": "1OwKGILCDPOj"
      },
      "execution_count": 16,
      "outputs": []
    },
    {
      "cell_type": "markdown",
      "source": [
        "Dibujamos con los atributos y le remplazamos los outliers"
      ],
      "metadata": {
        "id": "7zKbkGGZaOgi"
      }
    },
    {
      "cell_type": "code",
      "source": [
        "# dibujamos el diagrama y los puntos, y vemos si hay outliers\n",
        "draw_hist_boxplot(df, 'bore')"
      ],
      "metadata": {
        "id": "pN8pFh-ODXj4",
        "colab": {
          "base_uri": "https://localhost:8080/",
          "height": 279
        },
        "outputId": "2f51feb1-dbe4-4ead-b9a5-cb01d51c8e02"
      },
      "execution_count": 17,
      "outputs": [
        {
          "output_type": "display_data",
          "data": {
            "text/plain": [
              "<Figure size 432x288 with 1 Axes>"
            ],
            "image/png": "[encoded data removed]"
          },
          "metadata": {
            "needs_background": "light"
          }
        }
      ]
    },
    {
      "cell_type": "code",
      "source": [
        "draw_hist_boxplot(df, 'normalized-losses')"
      ],
      "metadata": {
        "id": "radI2fMlDao8",
        "colab": {
          "base_uri": "https://localhost:8080/",
          "height": 279
        },
        "outputId": "19d4505a-a53b-4550-bd84-895c5c67677e"
      },
      "execution_count": 18,
      "outputs": [
        {
          "output_type": "display_data",
          "data": {
            "text/plain": [
              "<Figure size 432x288 with 1 Axes>"
            ],
            "image/png": "[encoded data removed]"
          },
          "metadata": {
            "needs_background": "light"
          }
        }
      ]
    },
    {
      "cell_type": "code",
      "source": [
        "# remplazamos los outliers y lo dibujamos de nuevo\n",
        "replace_outliers_with_median(df, 'normalized-losses')\n",
        "draw_hist_boxplot(df, 'normalized-losses')"
      ],
      "metadata": {
        "id": "No8ANGXZDdmS",
        "colab": {
          "base_uri": "https://localhost:8080/",
          "height": 279
        },
        "outputId": "da74a7e9-64b3-4073-eaf4-8bef2b83308b"
      },
      "execution_count": 19,
      "outputs": [
        {
          "output_type": "display_data",
          "data": {
            "text/plain": [
              "<Figure size 432x288 with 1 Axes>"
            ],
            "image/png": "[encoded data removed]"
          },
          "metadata": {
            "needs_background": "light"
          }
        }
      ]
    },
    {
      "cell_type": "code",
      "source": [
        "# dibujamos con el atributo stroke\n",
        "draw_hist_boxplot(df, 'stroke')"
      ],
      "metadata": {
        "id": "2n9nLlTnDgT1",
        "colab": {
          "base_uri": "https://localhost:8080/",
          "height": 279
        },
        "outputId": "e1b38d22-076a-43a3-ff30-1383134f3530"
      },
      "execution_count": 20,
      "outputs": [
        {
          "output_type": "display_data",
          "data": {
            "text/plain": [
              "<Figure size 432x288 with 1 Axes>"
            ],
            "image/png": "[encoded data removed]"
          },
          "metadata": {
            "needs_background": "light"
          }
        }
      ]
    },
    {
      "cell_type": "code",
      "source": [
        "# reemplazamos de nuevo los outliers del atributo stroke y volvemos a dibujar\n",
        "replace_outliers_with_median(df, 'stroke')\n",
        "draw_hist_boxplot(df, 'stroke')"
      ],
      "metadata": {
        "id": "HmNWkmnMDjw_",
        "colab": {
          "base_uri": "https://localhost:8080/",
          "height": 279
        },
        "outputId": "c4341856-40bd-4abe-ebb8-359c7b8b583b"
      },
      "execution_count": 21,
      "outputs": [
        {
          "output_type": "display_data",
          "data": {
            "text/plain": [
              "<Figure size 432x288 with 1 Axes>"
            ],
            "image/png": "[encoded data removed]"
          },
          "metadata": {
            "needs_background": "light"
          }
        }
      ]
    },
    {
      "cell_type": "code",
      "source": [
        "# ahora con el atributo compression-ratio\n",
        "draw_hist_boxplot(df, 'compression-ratio')"
      ],
      "metadata": {
        "colab": {
          "base_uri": "https://localhost:8080/",
          "height": 279
        },
        "outputId": "a3fce107-14ac-45cf-ae32-4daa439a2f7a",
        "id": "mAP1P2epdvjY"
      },
      "execution_count": 22,
      "outputs": [
        {
          "output_type": "display_data",
          "data": {
            "text/plain": [
              "<Figure size 432x288 with 1 Axes>"
            ],
            "image/png": "[encoded data removed]"
          },
          "metadata": {
            "needs_background": "light"
          }
        }
      ]
    },
    {
      "cell_type": "code",
      "source": [
        "# reemplazamos los outliers de compression-ratio y volvemos a dibujar\n",
        "replace_outliers_with_median(df, 'compression-ratio')\n",
        "draw_hist_boxplot(df, 'compression-ratio')"
      ],
      "metadata": {
        "colab": {
          "base_uri": "https://localhost:8080/",
          "height": 279
        },
        "outputId": "5129a060-ac99-48a5-f5ee-e832c7742680",
        "id": "bbVxfXwjdvjY"
      },
      "execution_count": 23,
      "outputs": [
        {
          "output_type": "display_data",
          "data": {
            "text/plain": [
              "<Figure size 432x288 with 1 Axes>"
            ],
            "image/png": "[encoded data removed]"
          },
          "metadata": {
            "needs_background": "light"
          }
        }
      ]
    },
    {
      "cell_type": "code",
      "source": [
        "# ahora con el atributo engine-size\n",
        "draw_hist_boxplot(df, 'engine-size')"
      ],
      "metadata": {
        "colab": {
          "base_uri": "https://localhost:8080/",
          "height": 279
        },
        "outputId": "5df17332-6066-48ae-d154-e953a63777cc",
        "id": "63-iU58_d4x_"
      },
      "execution_count": 24,
      "outputs": [
        {
          "output_type": "display_data",
          "data": {
            "text/plain": [
              "<Figure size 432x288 with 1 Axes>"
            ],
            "image/png": "[encoded data removed]"
          },
          "metadata": {
            "needs_background": "light"
          }
        }
      ]
    },
    {
      "cell_type": "code",
      "source": [
        "# reemplazamos los outliers de engine-size y volvemos a dibujar\n",
        "replace_outliers_with_median(df, 'engine-size')\n",
        "draw_hist_boxplot(df, 'engine-size')"
      ],
      "metadata": {
        "colab": {
          "base_uri": "https://localhost:8080/",
          "height": 279
        },
        "outputId": "a795f5f4-310e-4fd9-a38d-3b6d0765382e",
        "id": "8WpzsmJ_d4x_"
      },
      "execution_count": 25,
      "outputs": [
        {
          "output_type": "display_data",
          "data": {
            "text/plain": [
              "<Figure size 432x288 with 1 Axes>"
            ],
            "image/png": "[encoded data removed]"
          },
          "metadata": {
            "needs_background": "light"
          }
        }
      ]
    },
    {
      "cell_type": "code",
      "source": [
        "# atributo peak-rpm\n",
        "draw_hist_boxplot(df, 'peak-rpm')"
      ],
      "metadata": {
        "colab": {
          "base_uri": "https://localhost:8080/",
          "height": 279
        },
        "id": "nX4pSSZ-eOi9",
        "outputId": "05f3e91c-2056-4aaa-8357-f3fc68089f3e"
      },
      "execution_count": 27,
      "outputs": [
        {
          "output_type": "display_data",
          "data": {
            "text/plain": [
              "<Figure size 432x288 with 1 Axes>"
            ],
            "image/png": "[encoded data removed]"
          },
          "metadata": {
            "needs_background": "light"
          }
        }
      ]
    },
    {
      "cell_type": "code",
      "source": [
        "# reemplazamos los outliers de peak-rpm y dibujamos de nuevo\n",
        "replace_outliers_with_median(df, 'peak-rpm')\n",
        "draw_hist_boxplot(df, 'peak-rpm')"
      ],
      "metadata": {
        "colab": {
          "base_uri": "https://localhost:8080/",
          "height": 279
        },
        "id": "1_XSvJ1ReOjC",
        "outputId": "7970ac39-60d5-4edc-aae4-9ad9f905ce14"
      },
      "execution_count": 28,
      "outputs": [
        {
          "output_type": "display_data",
          "data": {
            "text/plain": [
              "<Figure size 432x288 with 1 Axes>"
            ],
            "image/png": "[encoded data removed]"
          },
          "metadata": {
            "needs_background": "light"
          }
        }
      ]
    },
    {
      "cell_type": "code",
      "source": [
        "# atributo horsepower\n",
        "draw_hist_boxplot(df, 'horsepower')"
      ],
      "metadata": {
        "colab": {
          "base_uri": "https://localhost:8080/",
          "height": 279
        },
        "id": "KJJPJ7XCePZG",
        "outputId": "4206e2bb-f146-45c1-d38b-c9acc20e8200"
      },
      "execution_count": 29,
      "outputs": [
        {
          "output_type": "display_data",
          "data": {
            "text/plain": [
              "<Figure size 432x288 with 1 Axes>"
            ],
            "image/png": "[encoded data removed]"
          },
          "metadata": {
            "needs_background": "light"
          }
        }
      ]
    },
    {
      "cell_type": "code",
      "source": [
        "# reemplazamos outliers de horsepower y volvemos a dibujar\n",
        "replace_outliers_with_median(df, 'horsepower')\n",
        "draw_hist_boxplot(df, 'horsepower')"
      ],
      "metadata": {
        "colab": {
          "base_uri": "https://localhost:8080/",
          "height": 279
        },
        "id": "NMj0vopxePZH",
        "outputId": "2c53d1bb-2bf8-43d3-ea19-8fcf6887167a"
      },
      "execution_count": 30,
      "outputs": [
        {
          "output_type": "display_data",
          "data": {
            "text/plain": [
              "<Figure size 432x288 with 1 Axes>"
            ],
            "image/png": "[encoded data removed]"
          },
          "metadata": {
            "needs_background": "light"
          }
        }
      ]
    },
    {
      "cell_type": "code",
      "source": [
        "# atributo city-mpg\n",
        "draw_hist_boxplot(df, 'city-mpg')"
      ],
      "metadata": {
        "id": "RIY5sQgAEB6-",
        "colab": {
          "base_uri": "https://localhost:8080/",
          "height": 279
        },
        "outputId": "ecec7832-9499-4515-b555-20008a84d8c5"
      },
      "execution_count": 31,
      "outputs": [
        {
          "output_type": "display_data",
          "data": {
            "text/plain": [
              "<Figure size 432x288 with 1 Axes>"
            ],
            "image/png": "[encoded data removed]"
          },
          "metadata": {
            "needs_background": "light"
          }
        }
      ]
    },
    {
      "cell_type": "code",
      "source": [
        "def extraerOutlayers(df,columna):\n",
        "  Q1 = df[columna].quantile(0.25)\n",
        "  Q3 = df[columna].quantile(0.75)\n",
        "\n",
        "  IQR = Q3 - Q1\n",
        "\n",
        "  limInf = Q1 - 1.5 * IQR\n",
        "  limSup = Q3 + 1.5 * IQR\n",
        "\n",
        "  outliers = df[(df[columna] < limInf) | (df[columna] > limSup)][columna]\n",
        "\n",
        "  return outliers"
      ],
      "metadata": {
        "id": "PRQ95keqgcqB"
      },
      "execution_count": 34,
      "outputs": []
    },
    {
      "cell_type": "code",
      "source": [
        "extraerOutlayers(df,'city-mpg')"
      ],
      "metadata": {
        "colab": {
          "base_uri": "https://localhost:8080/"
        },
        "id": "MqvhvVF0hApC",
        "outputId": "57c80065-59e3-4468-c118-91a6600ec8bb"
      },
      "execution_count": 35,
      "outputs": [
        {
          "output_type": "execute_result",
          "data": {
            "text/plain": [
              "17    47\n",
              "29    49\n",
              "Name: city-mpg, dtype: int64"
            ]
          },
          "metadata": {},
          "execution_count": 35
        }
      ]
    },
    {
      "cell_type": "code",
      "source": [
        "# en el caso del atributo city-mpg vamos a eliminar los valores atípicos del conjunto de datos pues son solo unos pocos\n",
        "df.drop(df.loc[df['city-mpg'] > 46].index, inplace = True)\n",
        "draw_hist_boxplot(df, 'city-mpg')"
      ],
      "metadata": {
        "id": "pkvgMbi7EEuv",
        "colab": {
          "base_uri": "https://localhost:8080/",
          "height": 279
        },
        "outputId": "d8ef67e9-d7a6-416c-a565-e6accf2503fa"
      },
      "execution_count": 36,
      "outputs": [
        {
          "output_type": "display_data",
          "data": {
            "text/plain": [
              "<Figure size 432x288 with 1 Axes>"
            ],
            "image/png": "[encoded data removed]"
          },
          "metadata": {
            "needs_background": "light"
          }
        }
      ]
    },
    {
      "cell_type": "code",
      "source": [
        "# mostramos de nuevo los histogramas para ver el nuevo aspecto que tienen\n",
        "df[numeric_feature_names].hist(ax = plt.figure(figsize = (15, 15)).gca())"
      ],
      "metadata": {
        "id": "2TWOSR3NEHrw",
        "colab": {
          "base_uri": "https://localhost:8080/",
          "height": 1000
        },
        "outputId": "068a0b0c-2064-4373-cbb6-b42d0d8f105c"
      },
      "execution_count": 37,
      "outputs": [
        {
          "output_type": "stream",
          "name": "stderr",
          "text": [
            "<ipython-input-37-0ed257604fbe>:2: UserWarning: To output multiple subplots, the figure containing the passed axes is being cleared.\n",
            "  df[numeric_feature_names].hist(ax = plt.figure(figsize = (15, 15)).gca())\n"
          ]
        },
        {
          "output_type": "execute_result",
          "data": {
            "text/plain": [
              "array([[<Axes: title={'center': 'symboling'}>,\n",
              "        <Axes: title={'center': 'normalized-losses'}>,\n",
              "        <Axes: title={'center': 'wheel-base'}>,\n",
              "        <Axes: title={'center': 'length'}>],\n",
              "       [<Axes: title={'center': 'width'}>,\n",
              "        <Axes: title={'center': 'height'}>,\n",
              "        <Axes: title={'center': 'curb-weight'}>,\n",
              "        <Axes: title={'center': 'engine-size'}>],\n",
              "       [<Axes: title={'center': 'bore'}>,\n",
              "        <Axes: title={'center': 'stroke'}>,\n",
              "        <Axes: title={'center': 'compression-ratio'}>,\n",
              "        <Axes: title={'center': 'horsepower'}>],\n",
              "       [<Axes: title={'center': 'peak-rpm'}>,\n",
              "        <Axes: title={'center': 'city-mpg'}>,\n",
              "        <Axes: title={'center': 'highway-mpg'}>, <Axes: >]], dtype=object)"
            ]
          },
          "metadata": {},
          "execution_count": 37
        },
        {
          "output_type": "display_data",
          "data": {
            "text/plain": [
              "<Figure size 1080x1080 with 16 Axes>"
            ],
            "image/png": "[encoded data removed]"
          },
          "metadata": {
            "needs_background": "light"
          }
        }
      ]
    },
    {
      "cell_type": "code",
      "source": [
        "from sklearn.preprocessing import StandardScaler\n",
        "\n",
        "scaler = StandardScaler()\n",
        "df[numeric_feature_names] = scaler.fit_transform(df[numeric_feature_names])\n",
        "\n",
        "df[numeric_feature_names].hist(ax = plt.figure(figsize = (15, 15)).gca())"
      ],
      "metadata": {
        "id": "Yqf3Oc8PELcb",
        "colab": {
          "base_uri": "https://localhost:8080/",
          "height": 1000
        },
        "outputId": "b6d0fc47-7125-4e29-e3c8-d5034f353e05"
      },
      "execution_count": 38,
      "outputs": [
        {
          "output_type": "stream",
          "name": "stderr",
          "text": [
            "<ipython-input-38-d1a2407358da>:6: UserWarning: To output multiple subplots, the figure containing the passed axes is being cleared.\n",
            "  df[numeric_feature_names].hist(ax = plt.figure(figsize = (15, 15)).gca())\n"
          ]
        },
        {
          "output_type": "execute_result",
          "data": {
            "text/plain": [
              "array([[<Axes: title={'center': 'symboling'}>,\n",
              "        <Axes: title={'center': 'normalized-losses'}>,\n",
              "        <Axes: title={'center': 'wheel-base'}>,\n",
              "        <Axes: title={'center': 'length'}>],\n",
              "       [<Axes: title={'center': 'width'}>,\n",
              "        <Axes: title={'center': 'height'}>,\n",
              "        <Axes: title={'center': 'curb-weight'}>,\n",
              "        <Axes: title={'center': 'engine-size'}>],\n",
              "       [<Axes: title={'center': 'bore'}>,\n",
              "        <Axes: title={'center': 'stroke'}>,\n",
              "        <Axes: title={'center': 'compression-ratio'}>,\n",
              "        <Axes: title={'center': 'horsepower'}>],\n",
              "       [<Axes: title={'center': 'peak-rpm'}>,\n",
              "        <Axes: title={'center': 'city-mpg'}>,\n",
              "        <Axes: title={'center': 'highway-mpg'}>, <Axes: >]], dtype=object)"
            ]
          },
          "metadata": {},
          "execution_count": 38
        },
        {
          "output_type": "display_data",
          "data": {
            "text/plain": [
              "<Figure size 1080x1080 with 16 Axes>"
            ],
            "image/png": "[encoded data removed]"
          },
          "metadata": {
            "needs_background": "light"
          }
        }
      ]
    },
    {
      "cell_type": "markdown",
      "source": [
        "# Importancia de las propiedades y división del conjunto de datos"
      ],
      "metadata": {
        "id": "7oFsEtNCEy4v"
      }
    },
    {
      "cell_type": "markdown",
      "source": [
        "Analizaremos ahora el impacto de las propiedades sobre la variable objetivo.Recurriremos a un mapa de calor que muestre las correlaciones que existen entre todas las variables."
      ],
      "metadata": {
        "id": "eYGcNMKHw2Ys"
      }
    },
    {
      "cell_type": "code",
      "source": [
        "import seaborn as sns\n",
        "\n",
        "plt.figure(figsize=(15, 10))\n",
        "sns.heatmap(df.corr(), cmap = 'BrBG', annot = True)"
      ],
      "metadata": {
        "id": "UQ5SDWXxE8JH",
        "colab": {
          "base_uri": "https://localhost:8080/",
          "height": 692
        },
        "outputId": "42999226-3545-421e-fb91-92ffc96de654"
      },
      "execution_count": 39,
      "outputs": [
        {
          "output_type": "execute_result",
          "data": {
            "text/plain": [
              "<Axes: >"
            ]
          },
          "metadata": {},
          "execution_count": 39
        },
        {
          "output_type": "display_data",
          "data": {
            "text/plain": [
              "<Figure size 1080x720 with 2 Axes>"
            ],
            "image/png": "[encoded data removed]"
          },
          "metadata": {
            "needs_background": "light"
          }
        }
      ]
    },
    {
      "cell_type": "code",
      "source": [
        "df = df.drop(['symboling'], axis=1)\n",
        "df"
      ],
      "metadata": {
        "id": "JDsmzQo6FBo-",
        "colab": {
          "base_uri": "https://localhost:8080/",
          "height": 537
        },
        "outputId": "2d4bc51c-9de7-49f7-9a8f-121844ef5b4c"
      },
      "execution_count": 40,
      "outputs": [
        {
          "output_type": "execute_result",
          "data": {
            "text/plain": [
              "     normalized-losses         make fuel-type aspiration num-of-doors  \\\n",
              "0             0.130509  alfa-romero       gas        std          two   \n",
              "1             0.130509  alfa-romero       gas        std          two   \n",
              "2             0.130509  alfa-romero       gas        std          two   \n",
              "3             1.709080         audi       gas        std         four   \n",
              "4             1.709080         audi       gas        std         four   \n",
              "..                 ...          ...       ...        ...          ...   \n",
              "196          -0.884287        volvo       gas        std         four   \n",
              "197          -0.884287        volvo       gas      turbo         four   \n",
              "198          -0.884287        volvo       gas        std         four   \n",
              "199          -0.884287        volvo    diesel      turbo         four   \n",
              "200          -0.884287        volvo       gas      turbo         four   \n",
              "\n",
              "      body-style drive-wheels engine-location  wheel-base    length  ...  \\\n",
              "0    convertible          rwd           front   -1.726065 -0.478688  ...   \n",
              "1    convertible          rwd           front   -1.726065 -0.478688  ...   \n",
              "2      hatchback          rwd           front   -0.738360 -0.277702  ...   \n",
              "3          sedan          fwd           front    0.148900  0.174516  ...   \n",
              "4          sedan          4wd           front    0.081937  0.174516  ...   \n",
              "..           ...          ...             ...         ...       ...  ...   \n",
              "196        sedan          rwd           front    1.705791  1.196195  ...   \n",
              "197        sedan          rwd           front    1.705791  1.196195  ...   \n",
              "198        sedan          rwd           front    1.705791  1.196195  ...   \n",
              "199        sedan          rwd           front    1.705791  1.196195  ...   \n",
              "200        sedan          rwd           front    1.705791  1.196195  ...   \n",
              "\n",
              "     engine-size  fuel-system      bore    stroke compression-ratio  \\\n",
              "0       0.341233         mpfi  0.509006 -3.073377          0.171938   \n",
              "1       0.341233         mpfi  0.509006 -3.073377          0.171938   \n",
              "2       1.140119         mpfi -2.467847  0.861783          0.171938   \n",
              "3      -0.421340         mpfi -0.546081  0.513098          2.107213   \n",
              "4       0.559111         mpfi -0.546081  0.513098         -1.763337   \n",
              "..           ...          ...       ...       ...               ...   \n",
              "196     0.740676         mpfi  1.677138 -0.732206          1.139575   \n",
              "197     0.740676         mpfi  1.677138 -0.732206         -0.408644   \n",
              "198     1.902692         mpfi  0.923504 -2.126946         -0.215117   \n",
              "199     0.885928          idi -1.224352  0.513098          0.171938   \n",
              "200     0.740676         mpfi  1.677138 -0.732206          1.139575   \n",
              "\n",
              "     horsepower  peak-rpm  city-mpg  highway-mpg    price  \n",
              "0      0.314884 -0.229763 -0.656758    -0.537362  13495.0  \n",
              "1      0.314884 -0.229763 -0.656758    -0.537362  16500.0  \n",
              "2      1.649773 -0.229763 -0.989315    -0.692791  16500.0  \n",
              "3      0.035488  0.869265 -0.157923    -0.071076  13950.0  \n",
              "4      0.439059  0.869265 -1.155593    -1.314507  17450.0  \n",
              "..          ...       ...       ...          ...      ...  \n",
              "196    0.408015  0.649459 -0.324201    -0.381933  16845.0  \n",
              "197    1.836037  0.429654 -0.989315    -0.848220  19045.0  \n",
              "198    1.028894  0.869265 -1.155593    -1.159078  21485.0  \n",
              "199    0.159664 -0.669374  0.174634    -0.537362  22470.0  \n",
              "200    0.408015  0.649459 -0.989315    -0.848220  22625.0  \n",
              "\n",
              "[199 rows x 25 columns]"
            ],
            "text/html": [
              "\n",
              "  <div id=\"df-6b8daf67-a38b-48a5-a51b-aa8689629002\">\n",
              "    <div class=\"colab-df-container\">\n",
              "      <div>\n",
              "<style scoped>\n",
              "    .dataframe tbody tr th:only-of-type {\n",
              "        vertical-align: middle;\n",
              "    }\n",
              "\n",
              "    .dataframe tbody tr th {\n",
              "        vertical-align: top;\n",
              "    }\n",
              "\n",
              "    .dataframe thead th {\n",
              "        text-align: right;\n",
              "    }\n",
              "</style>\n",
              "<table border=\"1\" class=\"dataframe\">\n",
              "  <thead>\n",
              "    <tr style=\"text-align: right;\">\n",
              "      <th></th>\n",
              "      <th>normalized-losses</th>\n",
              "      <th>make</th>\n",
              "      <th>fuel-type</th>\n",
              "      <th>aspiration</th>\n",
              "      <th>num-of-doors</th>\n",
              "      <th>body-style</th>\n",
              "      <th>drive-wheels</th>\n",
              "      <th>engine-location</th>\n",
              "      <th>wheel-base</th>\n",
              "      <th>length</th>\n",
              "      <th>...</th>\n",
              "      <th>engine-size</th>\n",
              "      <th>fuel-system</th>\n",
              "      <th>bore</th>\n",
              "      <th>stroke</th>\n",
              "      <th>compression-ratio</th>\n",
              "      <th>horsepower</th>\n",
              "      <th>peak-rpm</th>\n",
              "      <th>city-mpg</th>\n",
              "      <th>highway-mpg</th>\n",
              "      <th>price</th>\n",
              "    </tr>\n",
              "  </thead>\n",
              "  <tbody>\n",
              "    <tr>\n",
              "      <th>0</th>\n",
              "      <td>0.130509</td>\n",
              "      <td>alfa-romero</td>\n",
              "      <td>gas</td>\n",
              "      <td>std</td>\n",
              "      <td>two</td>\n",
              "      <td>convertible</td>\n",
              "      <td>rwd</td>\n",
              "      <td>front</td>\n",
              "      <td>-1.726065</td>\n",
              "      <td>-0.478688</td>\n",
              "      <td>...</td>\n",
              "      <td>0.341233</td>\n",
              "      <td>mpfi</td>\n",
              "      <td>0.509006</td>\n",
              "      <td>-3.073377</td>\n",
              "      <td>0.171938</td>\n",
              "      <td>0.314884</td>\n",
              "      <td>-0.229763</td>\n",
              "      <td>-0.656758</td>\n",
              "      <td>-0.537362</td>\n",
              "      <td>13495.0</td>\n",
              "    </tr>\n",
              "    <tr>\n",
              "      <th>1</th>\n",
              "      <td>0.130509</td>\n",
              "      <td>alfa-romero</td>\n",
              "      <td>gas</td>\n",
              "      <td>std</td>\n",
              "      <td>two</td>\n",
              "      <td>convertible</td>\n",
              "      <td>rwd</td>\n",
              "      <td>front</td>\n",
              "      <td>-1.726065</td>\n",
              "      <td>-0.478688</td>\n",
              "      <td>...</td>\n",
              "      <td>0.341233</td>\n",
              "      <td>mpfi</td>\n",
              "      <td>0.509006</td>\n",
              "      <td>-3.073377</td>\n",
              "      <td>0.171938</td>\n",
              "      <td>0.314884</td>\n",
              "      <td>-0.229763</td>\n",
              "      <td>-0.656758</td>\n",
              "      <td>-0.537362</td>\n",
              "      <td>16500.0</td>\n",
              "    </tr>\n",
              "    <tr>\n",
              "      <th>2</th>\n",
              "      <td>0.130509</td>\n",
              "      <td>alfa-romero</td>\n",
              "      <td>gas</td>\n",
              "      <td>std</td>\n",
              "      <td>two</td>\n",
              "      <td>hatchback</td>\n",
              "      <td>rwd</td>\n",
              "      <td>front</td>\n",
              "      <td>-0.738360</td>\n",
              "      <td>-0.277702</td>\n",
              "      <td>...</td>\n",
              "      <td>1.140119</td>\n",
              "      <td>mpfi</td>\n",
              "      <td>-2.467847</td>\n",
              "      <td>0.861783</td>\n",
              "      <td>0.171938</td>\n",
              "      <td>1.649773</td>\n",
              "      <td>-0.229763</td>\n",
              "      <td>-0.989315</td>\n",
              "      <td>-0.692791</td>\n",
              "      <td>16500.0</td>\n",
              "    </tr>\n",
              "    <tr>\n",
              "      <th>3</th>\n",
              "      <td>1.709080</td>\n",
              "      <td>audi</td>\n",
              "      <td>gas</td>\n",
              "      <td>std</td>\n",
              "      <td>four</td>\n",
              "      <td>sedan</td>\n",
              "      <td>fwd</td>\n",
              "      <td>front</td>\n",
              "      <td>0.148900</td>\n",
              "      <td>0.174516</td>\n",
              "      <td>...</td>\n",
              "      <td>-0.421340</td>\n",
              "      <td>mpfi</td>\n",
              "      <td>-0.546081</td>\n",
              "      <td>0.513098</td>\n",
              "      <td>2.107213</td>\n",
              "      <td>0.035488</td>\n",
              "      <td>0.869265</td>\n",
              "      <td>-0.157923</td>\n",
              "      <td>-0.071076</td>\n",
              "      <td>13950.0</td>\n",
              "    </tr>\n",
              "    <tr>\n",
              "      <th>4</th>\n",
              "      <td>1.709080</td>\n",
              "      <td>audi</td>\n",
              "      <td>gas</td>\n",
              "      <td>std</td>\n",
              "      <td>four</td>\n",
              "      <td>sedan</td>\n",
              "      <td>4wd</td>\n",
              "      <td>front</td>\n",
              "      <td>0.081937</td>\n",
              "      <td>0.174516</td>\n",
              "      <td>...</td>\n",
              "      <td>0.559111</td>\n",
              "      <td>mpfi</td>\n",
              "      <td>-0.546081</td>\n",
              "      <td>0.513098</td>\n",
              "      <td>-1.763337</td>\n",
              "      <td>0.439059</td>\n",
              "      <td>0.869265</td>\n",
              "      <td>-1.155593</td>\n",
              "      <td>-1.314507</td>\n",
              "      <td>17450.0</td>\n",
              "    </tr>\n",
              "    <tr>\n",
              "      <th>...</th>\n",
              "      <td>...</td>\n",
              "      <td>...</td>\n",
              "      <td>...</td>\n",
              "      <td>...</td>\n",
              "      <td>...</td>\n",
              "      <td>...</td>\n",
              "      <td>...</td>\n",
              "      <td>...</td>\n",
              "      <td>...</td>\n",
              "      <td>...</td>\n",
              "      <td>...</td>\n",
              "      <td>...</td>\n",
              "      <td>...</td>\n",
              "      <td>...</td>\n",
              "      <td>...</td>\n",
              "      <td>...</td>\n",
              "      <td>...</td>\n",
              "      <td>...</td>\n",
              "      <td>...</td>\n",
              "      <td>...</td>\n",
              "      <td>...</td>\n",
              "    </tr>\n",
              "    <tr>\n",
              "      <th>196</th>\n",
              "      <td>-0.884287</td>\n",
              "      <td>volvo</td>\n",
              "      <td>gas</td>\n",
              "      <td>std</td>\n",
              "      <td>four</td>\n",
              "      <td>sedan</td>\n",
              "      <td>rwd</td>\n",
              "      <td>front</td>\n",
              "      <td>1.705791</td>\n",
              "      <td>1.196195</td>\n",
              "      <td>...</td>\n",
              "      <td>0.740676</td>\n",
              "      <td>mpfi</td>\n",
              "      <td>1.677138</td>\n",
              "      <td>-0.732206</td>\n",
              "      <td>1.139575</td>\n",
              "      <td>0.408015</td>\n",
              "      <td>0.649459</td>\n",
              "      <td>-0.324201</td>\n",
              "      <td>-0.381933</td>\n",
              "      <td>16845.0</td>\n",
              "    </tr>\n",
              "    <tr>\n",
              "      <th>197</th>\n",
              "      <td>-0.884287</td>\n",
              "      <td>volvo</td>\n",
              "      <td>gas</td>\n",
              "      <td>turbo</td>\n",
              "      <td>four</td>\n",
              "      <td>sedan</td>\n",
              "      <td>rwd</td>\n",
              "      <td>front</td>\n",
              "      <td>1.705791</td>\n",
              "      <td>1.196195</td>\n",
              "      <td>...</td>\n",
              "      <td>0.740676</td>\n",
              "      <td>mpfi</td>\n",
              "      <td>1.677138</td>\n",
              "      <td>-0.732206</td>\n",
              "      <td>-0.408644</td>\n",
              "      <td>1.836037</td>\n",
              "      <td>0.429654</td>\n",
              "      <td>-0.989315</td>\n",
              "      <td>-0.848220</td>\n",
              "      <td>19045.0</td>\n",
              "    </tr>\n",
              "    <tr>\n",
              "      <th>198</th>\n",
              "      <td>-0.884287</td>\n",
              "      <td>volvo</td>\n",
              "      <td>gas</td>\n",
              "      <td>std</td>\n",
              "      <td>four</td>\n",
              "      <td>sedan</td>\n",
              "      <td>rwd</td>\n",
              "      <td>front</td>\n",
              "      <td>1.705791</td>\n",
              "      <td>1.196195</td>\n",
              "      <td>...</td>\n",
              "      <td>1.902692</td>\n",
              "      <td>mpfi</td>\n",
              "      <td>0.923504</td>\n",
              "      <td>-2.126946</td>\n",
              "      <td>-0.215117</td>\n",
              "      <td>1.028894</td>\n",
              "      <td>0.869265</td>\n",
              "      <td>-1.155593</td>\n",
              "      <td>-1.159078</td>\n",
              "      <td>21485.0</td>\n",
              "    </tr>\n",
              "    <tr>\n",
              "      <th>199</th>\n",
              "      <td>-0.884287</td>\n",
              "      <td>volvo</td>\n",
              "      <td>diesel</td>\n",
              "      <td>turbo</td>\n",
              "      <td>four</td>\n",
              "      <td>sedan</td>\n",
              "      <td>rwd</td>\n",
              "      <td>front</td>\n",
              "      <td>1.705791</td>\n",
              "      <td>1.196195</td>\n",
              "      <td>...</td>\n",
              "      <td>0.885928</td>\n",
              "      <td>idi</td>\n",
              "      <td>-1.224352</td>\n",
              "      <td>0.513098</td>\n",
              "      <td>0.171938</td>\n",
              "      <td>0.159664</td>\n",
              "      <td>-0.669374</td>\n",
              "      <td>0.174634</td>\n",
              "      <td>-0.537362</td>\n",
              "      <td>22470.0</td>\n",
              "    </tr>\n",
              "    <tr>\n",
              "      <th>200</th>\n",
              "      <td>-0.884287</td>\n",
              "      <td>volvo</td>\n",
              "      <td>gas</td>\n",
              "      <td>turbo</td>\n",
              "      <td>four</td>\n",
              "      <td>sedan</td>\n",
              "      <td>rwd</td>\n",
              "      <td>front</td>\n",
              "      <td>1.705791</td>\n",
              "      <td>1.196195</td>\n",
              "      <td>...</td>\n",
              "      <td>0.740676</td>\n",
              "      <td>mpfi</td>\n",
              "      <td>1.677138</td>\n",
              "      <td>-0.732206</td>\n",
              "      <td>1.139575</td>\n",
              "      <td>0.408015</td>\n",
              "      <td>0.649459</td>\n",
              "      <td>-0.989315</td>\n",
              "      <td>-0.848220</td>\n",
              "      <td>22625.0</td>\n",
              "    </tr>\n",
              "  </tbody>\n",
              "</table>\n",
              "<p>199 rows × 25 columns</p>\n",
              "</div>\n",
              "      <button class=\"colab-df-convert\" onclick=\"convertToInteractive('df-6b8daf67-a38b-48a5-a51b-aa8689629002')\"\n",
              "              title=\"Convert this dataframe to an interactive table.\"\n",
              "              style=\"display:none;\">\n",
              "        \n",
              "  <svg xmlns=\"http://www.w3.org/2000/svg\" height=\"24px\"viewBox=\"0 0 24 24\"\n",
              "       width=\"24px\">\n",
              "    <path d=\"M0 0h24v24H0V0z\" fill=\"none\"/>\n",
              "    <path d=\"M18.56 5.44l.94 2.06.94-2.06 2.06-.94-2.06-.94-.94-2.06-.94 2.06-2.06.94zm-11 1L8.5 8.5l.94-2.06 2.06-.94-2.06-.94L8.5 2.5l-.94 2.06-2.06.94zm10 10l.94 2.06.94-2.06 2.06-.94-2.06-.94-.94-2.06-.94 2.06-2.06.94z\"/><path d=\"M17.41 7.96l-1.37-1.37c-.4-.4-.92-.59-1.43-.59-.52 0-1.04.2-1.43.59L10.3 9.45l-7.72 7.72c-.78.78-.78 2.05 0 2.83L4 21.41c.39.39.9.59 1.41.59.51 0 1.02-.2 1.41-.59l7.78-7.78 2.81-2.81c.8-.78.8-2.07 0-2.86zM5.41 20L4 18.59l7.72-7.72 1.47 1.35L5.41 20z\"/>\n",
              "  </svg>\n",
              "      </button>\n",
              "      \n",
              "  <style>\n",
              "    .colab-df-container {\n",
              "      display:flex;\n",
              "      flex-wrap:wrap;\n",
              "      gap: 12px;\n",
              "    }\n",
              "\n",
              "    .colab-df-convert {\n",
              "      background-color: #E8F0FE;\n",
              "      border: none;\n",
              "      border-radius: 50%;\n",
              "      cursor: pointer;\n",
              "      display: none;\n",
              "      fill: #1967D2;\n",
              "      height: 32px;\n",
              "      padding: 0 0 0 0;\n",
              "      width: 32px;\n",
              "    }\n",
              "\n",
              "    .colab-df-convert:hover {\n",
              "      background-color: #E2EBFA;\n",
              "      box-shadow: 0px 1px 2px rgba(60, 64, 67, 0.3), 0px 1px 3px 1px rgba(60, 64, 67, 0.15);\n",
              "      fill: #174EA6;\n",
              "    }\n",
              "\n",
              "    [theme=dark] .colab-df-convert {\n",
              "      background-color: #3B4455;\n",
              "      fill: #D2E3FC;\n",
              "    }\n",
              "\n",
              "    [theme=dark] .colab-df-convert:hover {\n",
              "      background-color: #434B5C;\n",
              "      box-shadow: 0px 1px 3px 1px rgba(0, 0, 0, 0.15);\n",
              "      filter: drop-shadow(0px 1px 2px rgba(0, 0, 0, 0.3));\n",
              "      fill: #FFFFFF;\n",
              "    }\n",
              "  </style>\n",
              "\n",
              "      <script>\n",
              "        const buttonEl =\n",
              "          document.querySelector('#df-6b8daf67-a38b-48a5-a51b-aa8689629002 button.colab-df-convert');\n",
              "        buttonEl.style.display =\n",
              "          google.colab.kernel.accessAllowed ? 'block' : 'none';\n",
              "\n",
              "        async function convertToInteractive(key) {\n",
              "          const element = document.querySelector('#df-6b8daf67-a38b-48a5-a51b-aa8689629002');\n",
              "          const dataTable =\n",
              "            await google.colab.kernel.invokeFunction('convertToInteractive',\n",
              "                                                     [key], {});\n",
              "          if (!dataTable) return;\n",
              "\n",
              "          const docLinkHtml = 'Like what you see? Visit the ' +\n",
              "            '<a target=\"_blank\" href=https://colab.research.google.com/notebooks/data_table.ipynb>data table notebook</a>'\n",
              "            + ' to learn more about interactive tables.';\n",
              "          element.innerHTML = '';\n",
              "          dataTable['output_type'] = 'display_data';\n",
              "          await google.colab.output.renderOutput(dataTable, element);\n",
              "          const docLink = document.createElement('div');\n",
              "          docLink.innerHTML = docLinkHtml;\n",
              "          element.appendChild(docLink);\n",
              "        }\n",
              "      </script>\n",
              "    </div>\n",
              "  </div>\n",
              "  "
            ]
          },
          "metadata": {},
          "execution_count": 40
        }
      ]
    },
    {
      "cell_type": "markdown",
      "source": [
        "Mostraremos diagramas de diferentes variables en funcion del precio"
      ],
      "metadata": {
        "id": "bedPRPU5dMfR"
      }
    },
    {
      "cell_type": "code",
      "source": [
        "plt.figure(figsize = (10, 5))\n",
        "sns.boxplot(x = 'body-style', y = 'price', data = df)"
      ],
      "metadata": {
        "id": "ZuWTSdewFJFE",
        "colab": {
          "base_uri": "https://localhost:8080/",
          "height": 351
        },
        "outputId": "e4a25411-85c1-452d-cc34-a092cf43d4e7"
      },
      "execution_count": 41,
      "outputs": [
        {
          "output_type": "execute_result",
          "data": {
            "text/plain": [
              "<Axes: xlabel='body-style', ylabel='price'>"
            ]
          },
          "metadata": {},
          "execution_count": 41
        },
        {
          "output_type": "display_data",
          "data": {
            "text/plain": [
              "<Figure size 720x360 with 1 Axes>"
            ],
            "image/png": "[encoded data removed]"
          },
          "metadata": {
            "needs_background": "light"
          }
        }
      ]
    },
    {
      "cell_type": "code",
      "source": [
        "plt.figure(figsize = (10, 5))\n",
        "sns.boxplot(x = 'aspiration', y = 'price', data = df)"
      ],
      "metadata": {
        "id": "QWWKPDj2FLul",
        "colab": {
          "base_uri": "https://localhost:8080/",
          "height": 351
        },
        "outputId": "fc3ff763-a64e-405a-a872-3ce1200d1ba5"
      },
      "execution_count": 42,
      "outputs": [
        {
          "output_type": "execute_result",
          "data": {
            "text/plain": [
              "<Axes: xlabel='aspiration', ylabel='price'>"
            ]
          },
          "metadata": {},
          "execution_count": 42
        },
        {
          "output_type": "display_data",
          "data": {
            "text/plain": [
              "<Figure size 720x360 with 1 Axes>"
            ],
            "image/png": "[encoded data removed]"
          },
          "metadata": {
            "needs_background": "light"
          }
        }
      ]
    },
    {
      "cell_type": "code",
      "source": [
        "plt.figure(figsize = (10, 5))\n",
        "sns.boxplot(x = 'fuel-system', y = 'price', data = df)"
      ],
      "metadata": {
        "id": "uoNP9vd3FSCV",
        "colab": {
          "base_uri": "https://localhost:8080/",
          "height": 351
        },
        "outputId": "4f3d6104-f8bf-49e1-bfce-c0c04951cdbb"
      },
      "execution_count": 43,
      "outputs": [
        {
          "output_type": "execute_result",
          "data": {
            "text/plain": [
              "<Axes: xlabel='fuel-system', ylabel='price'>"
            ]
          },
          "metadata": {},
          "execution_count": 43
        },
        {
          "output_type": "display_data",
          "data": {
            "text/plain": [
              "<Figure size 720x360 with 1 Axes>"
            ],
            "image/png": "[encoded data removed]"
          },
          "metadata": {
            "needs_background": "light"
          }
        }
      ]
    },
    {
      "cell_type": "code",
      "source": [
        "plt.figure(figsize = (10, 5))\n",
        "sns.boxplot(x = 'drive-wheels', y = 'price', data = df)"
      ],
      "metadata": {
        "id": "kbehJCb_FW_6",
        "colab": {
          "base_uri": "https://localhost:8080/",
          "height": 351
        },
        "outputId": "b3f4b016-c48a-4785-8c55-5a91bf51e712"
      },
      "execution_count": 44,
      "outputs": [
        {
          "output_type": "execute_result",
          "data": {
            "text/plain": [
              "<Axes: xlabel='drive-wheels', ylabel='price'>"
            ]
          },
          "metadata": {},
          "execution_count": 44
        },
        {
          "output_type": "display_data",
          "data": {
            "text/plain": [
              "<Figure size 720x360 with 1 Axes>"
            ],
            "image/png": "[encoded data removed]"
          },
          "metadata": {
            "needs_background": "light"
          }
        }
      ]
    },
    {
      "cell_type": "code",
      "source": [
        "numeric_feature_names = df.select_dtypes(include=['int64', 'float64']).columns.tolist()\n",
        "numeric_feature_names.remove(target)\n",
        "categorical_feature_names = df.select_dtypes(include=['object']).columns.tolist()\n",
        "\n",
        "print(f'Propiedades numéricas: {numeric_feature_names} ({len(numeric_feature_names)})')\n",
        "print(f'Propiedades categóricas: {categorical_feature_names} ({len(categorical_feature_names)})')\n",
        "\n",
        "all_feature_names = numeric_feature_names + categorical_feature_names"
      ],
      "metadata": {
        "id": "Chxd-HwEFe8d",
        "colab": {
          "base_uri": "https://localhost:8080/"
        },
        "outputId": "d2dde8ff-f54d-44f5-b975-734cf3c2a9a2"
      },
      "execution_count": 45,
      "outputs": [
        {
          "output_type": "stream",
          "name": "stdout",
          "text": [
            "Propiedades numéricas: ['normalized-losses', 'wheel-base', 'length', 'width', 'height', 'curb-weight', 'engine-size', 'bore', 'stroke', 'compression-ratio', 'horsepower', 'peak-rpm', 'city-mpg', 'highway-mpg'] (14)\n",
            "Propiedades categóricas: ['make', 'fuel-type', 'aspiration', 'num-of-doors', 'body-style', 'drive-wheels', 'engine-location', 'engine-type', 'num-of-cylinders', 'fuel-system'] (10)\n"
          ]
        }
      ]
    },
    {
      "cell_type": "code",
      "source": [
        "df[numeric_feature_names].head()"
      ],
      "metadata": {
        "id": "HQHHR9WhFhEk",
        "colab": {
          "base_uri": "https://localhost:8080/",
          "height": 206
        },
        "outputId": "6454eb87-6ec5-490b-c58e-cd2e636ca0d2"
      },
      "execution_count": 47,
      "outputs": [
        {
          "output_type": "execute_result",
          "data": {
            "text/plain": [
              "   normalized-losses  wheel-base    length     width    height  curb-weight  \\\n",
              "0           0.130509   -1.726065 -0.478688 -0.885243 -2.039000    -0.033891   \n",
              "1           0.130509   -1.726065 -0.478688 -0.885243 -2.039000    -0.033891   \n",
              "2           0.130509   -0.738360 -0.277702 -0.206946 -0.566332     0.505893   \n",
              "3           1.709080    0.148900  0.174516  0.132202  0.210910    -0.448053   \n",
              "4           1.709080    0.081937  0.174516  0.229102  0.210910     0.507856   \n",
              "\n",
              "   engine-size      bore    stroke  compression-ratio  horsepower  peak-rpm  \\\n",
              "0     0.341233  0.509006 -3.073377           0.171938    0.314884 -0.229763   \n",
              "1     0.341233  0.509006 -3.073377           0.171938    0.314884 -0.229763   \n",
              "2     1.140119 -2.467847  0.861783           0.171938    1.649773 -0.229763   \n",
              "3    -0.421340 -0.546081  0.513098           2.107213    0.035488  0.869265   \n",
              "4     0.559111 -0.546081  0.513098          -1.763337    0.439059  0.869265   \n",
              "\n",
              "   city-mpg  highway-mpg  \n",
              "0 -0.656758    -0.537362  \n",
              "1 -0.656758    -0.537362  \n",
              "2 -0.989315    -0.692791  \n",
              "3 -0.157923    -0.071076  \n",
              "4 -1.155593    -1.314507  "
            ],
            "text/html": [
              "\n",
              "  <div id=\"df-38b83018-2054-4e27-a904-d077cbdb321a\">\n",
              "    <div class=\"colab-df-container\">\n",
              "      <div>\n",
              "<style scoped>\n",
              "    .dataframe tbody tr th:only-of-type {\n",
              "        vertical-align: middle;\n",
              "    }\n",
              "\n",
              "    .dataframe tbody tr th {\n",
              "        vertical-align: top;\n",
              "    }\n",
              "\n",
              "    .dataframe thead th {\n",
              "        text-align: right;\n",
              "    }\n",
              "</style>\n",
              "<table border=\"1\" class=\"dataframe\">\n",
              "  <thead>\n",
              "    <tr style=\"text-align: right;\">\n",
              "      <th></th>\n",
              "      <th>normalized-losses</th>\n",
              "      <th>wheel-base</th>\n",
              "      <th>length</th>\n",
              "      <th>width</th>\n",
              "      <th>height</th>\n",
              "      <th>curb-weight</th>\n",
              "      <th>engine-size</th>\n",
              "      <th>bore</th>\n",
              "      <th>stroke</th>\n",
              "      <th>compression-ratio</th>\n",
              "      <th>horsepower</th>\n",
              "      <th>peak-rpm</th>\n",
              "      <th>city-mpg</th>\n",
              "      <th>highway-mpg</th>\n",
              "    </tr>\n",
              "  </thead>\n",
              "  <tbody>\n",
              "    <tr>\n",
              "      <th>0</th>\n",
              "      <td>0.130509</td>\n",
              "      <td>-1.726065</td>\n",
              "      <td>-0.478688</td>\n",
              "      <td>-0.885243</td>\n",
              "      <td>-2.039000</td>\n",
              "      <td>-0.033891</td>\n",
              "      <td>0.341233</td>\n",
              "      <td>0.509006</td>\n",
              "      <td>-3.073377</td>\n",
              "      <td>0.171938</td>\n",
              "      <td>0.314884</td>\n",
              "      <td>-0.229763</td>\n",
              "      <td>-0.656758</td>\n",
              "      <td>-0.537362</td>\n",
              "    </tr>\n",
              "    <tr>\n",
              "      <th>1</th>\n",
              "      <td>0.130509</td>\n",
              "      <td>-1.726065</td>\n",
              "      <td>-0.478688</td>\n",
              "      <td>-0.885243</td>\n",
              "      <td>-2.039000</td>\n",
              "      <td>-0.033891</td>\n",
              "      <td>0.341233</td>\n",
              "      <td>0.509006</td>\n",
              "      <td>-3.073377</td>\n",
              "      <td>0.171938</td>\n",
              "      <td>0.314884</td>\n",
              "      <td>-0.229763</td>\n",
              "      <td>-0.656758</td>\n",
              "      <td>-0.537362</td>\n",
              "    </tr>\n",
              "    <tr>\n",
              "      <th>2</th>\n",
              "      <td>0.130509</td>\n",
              "      <td>-0.738360</td>\n",
              "      <td>-0.277702</td>\n",
              "      <td>-0.206946</td>\n",
              "      <td>-0.566332</td>\n",
              "      <td>0.505893</td>\n",
              "      <td>1.140119</td>\n",
              "      <td>-2.467847</td>\n",
              "      <td>0.861783</td>\n",
              "      <td>0.171938</td>\n",
              "      <td>1.649773</td>\n",
              "      <td>-0.229763</td>\n",
              "      <td>-0.989315</td>\n",
              "      <td>-0.692791</td>\n",
              "    </tr>\n",
              "    <tr>\n",
              "      <th>3</th>\n",
              "      <td>1.709080</td>\n",
              "      <td>0.148900</td>\n",
              "      <td>0.174516</td>\n",
              "      <td>0.132202</td>\n",
              "      <td>0.210910</td>\n",
              "      <td>-0.448053</td>\n",
              "      <td>-0.421340</td>\n",
              "      <td>-0.546081</td>\n",
              "      <td>0.513098</td>\n",
              "      <td>2.107213</td>\n",
              "      <td>0.035488</td>\n",
              "      <td>0.869265</td>\n",
              "      <td>-0.157923</td>\n",
              "      <td>-0.071076</td>\n",
              "    </tr>\n",
              "    <tr>\n",
              "      <th>4</th>\n",
              "      <td>1.709080</td>\n",
              "      <td>0.081937</td>\n",
              "      <td>0.174516</td>\n",
              "      <td>0.229102</td>\n",
              "      <td>0.210910</td>\n",
              "      <td>0.507856</td>\n",
              "      <td>0.559111</td>\n",
              "      <td>-0.546081</td>\n",
              "      <td>0.513098</td>\n",
              "      <td>-1.763337</td>\n",
              "      <td>0.439059</td>\n",
              "      <td>0.869265</td>\n",
              "      <td>-1.155593</td>\n",
              "      <td>-1.314507</td>\n",
              "    </tr>\n",
              "  </tbody>\n",
              "</table>\n",
              "</div>\n",
              "      <button class=\"colab-df-convert\" onclick=\"convertToInteractive('df-38b83018-2054-4e27-a904-d077cbdb321a')\"\n",
              "              title=\"Convert this dataframe to an interactive table.\"\n",
              "              style=\"display:none;\">\n",
              "        \n",
              "  <svg xmlns=\"http://www.w3.org/2000/svg\" height=\"24px\"viewBox=\"0 0 24 24\"\n",
              "       width=\"24px\">\n",
              "    <path d=\"M0 0h24v24H0V0z\" fill=\"none\"/>\n",
              "    <path d=\"M18.56 5.44l.94 2.06.94-2.06 2.06-.94-2.06-.94-.94-2.06-.94 2.06-2.06.94zm-11 1L8.5 8.5l.94-2.06 2.06-.94-2.06-.94L8.5 2.5l-.94 2.06-2.06.94zm10 10l.94 2.06.94-2.06 2.06-.94-2.06-.94-.94-2.06-.94 2.06-2.06.94z\"/><path d=\"M17.41 7.96l-1.37-1.37c-.4-.4-.92-.59-1.43-.59-.52 0-1.04.2-1.43.59L10.3 9.45l-7.72 7.72c-.78.78-.78 2.05 0 2.83L4 21.41c.39.39.9.59 1.41.59.51 0 1.02-.2 1.41-.59l7.78-7.78 2.81-2.81c.8-.78.8-2.07 0-2.86zM5.41 20L4 18.59l7.72-7.72 1.47 1.35L5.41 20z\"/>\n",
              "  </svg>\n",
              "      </button>\n",
              "      \n",
              "  <style>\n",
              "    .colab-df-container {\n",
              "      display:flex;\n",
              "      flex-wrap:wrap;\n",
              "      gap: 12px;\n",
              "    }\n",
              "\n",
              "    .colab-df-convert {\n",
              "      background-color: #E8F0FE;\n",
              "      border: none;\n",
              "      border-radius: 50%;\n",
              "      cursor: pointer;\n",
              "      display: none;\n",
              "      fill: #1967D2;\n",
              "      height: 32px;\n",
              "      padding: 0 0 0 0;\n",
              "      width: 32px;\n",
              "    }\n",
              "\n",
              "    .colab-df-convert:hover {\n",
              "      background-color: #E2EBFA;\n",
              "      box-shadow: 0px 1px 2px rgba(60, 64, 67, 0.3), 0px 1px 3px 1px rgba(60, 64, 67, 0.15);\n",
              "      fill: #174EA6;\n",
              "    }\n",
              "\n",
              "    [theme=dark] .colab-df-convert {\n",
              "      background-color: #3B4455;\n",
              "      fill: #D2E3FC;\n",
              "    }\n",
              "\n",
              "    [theme=dark] .colab-df-convert:hover {\n",
              "      background-color: #434B5C;\n",
              "      box-shadow: 0px 1px 3px 1px rgba(0, 0, 0, 0.15);\n",
              "      filter: drop-shadow(0px 1px 2px rgba(0, 0, 0, 0.3));\n",
              "      fill: #FFFFFF;\n",
              "    }\n",
              "  </style>\n",
              "\n",
              "      <script>\n",
              "        const buttonEl =\n",
              "          document.querySelector('#df-38b83018-2054-4e27-a904-d077cbdb321a button.colab-df-convert');\n",
              "        buttonEl.style.display =\n",
              "          google.colab.kernel.accessAllowed ? 'block' : 'none';\n",
              "\n",
              "        async function convertToInteractive(key) {\n",
              "          const element = document.querySelector('#df-38b83018-2054-4e27-a904-d077cbdb321a');\n",
              "          const dataTable =\n",
              "            await google.colab.kernel.invokeFunction('convertToInteractive',\n",
              "                                                     [key], {});\n",
              "          if (!dataTable) return;\n",
              "\n",
              "          const docLinkHtml = 'Like what you see? Visit the ' +\n",
              "            '<a target=\"_blank\" href=https://colab.research.google.com/notebooks/data_table.ipynb>data table notebook</a>'\n",
              "            + ' to learn more about interactive tables.';\n",
              "          element.innerHTML = '';\n",
              "          dataTable['output_type'] = 'display_data';\n",
              "          await google.colab.output.renderOutput(dataTable, element);\n",
              "          const docLink = document.createElement('div');\n",
              "          docLink.innerHTML = docLinkHtml;\n",
              "          element.appendChild(docLink);\n",
              "        }\n",
              "      </script>\n",
              "    </div>\n",
              "  </div>\n",
              "  "
            ]
          },
          "metadata": {},
          "execution_count": 47
        }
      ]
    },
    {
      "cell_type": "code",
      "source": [
        "df[categorical_feature_names].head()"
      ],
      "metadata": {
        "id": "IBtNdyRCFlhw",
        "colab": {
          "base_uri": "https://localhost:8080/",
          "height": 206
        },
        "outputId": "f1953cf2-60da-4717-b8a9-9aef6dc111d5"
      },
      "execution_count": 46,
      "outputs": [
        {
          "output_type": "execute_result",
          "data": {
            "text/plain": [
              "          make fuel-type aspiration num-of-doors   body-style drive-wheels  \\\n",
              "0  alfa-romero       gas        std          two  convertible          rwd   \n",
              "1  alfa-romero       gas        std          two  convertible          rwd   \n",
              "2  alfa-romero       gas        std          two    hatchback          rwd   \n",
              "3         audi       gas        std         four        sedan          fwd   \n",
              "4         audi       gas        std         four        sedan          4wd   \n",
              "\n",
              "  engine-location engine-type num-of-cylinders fuel-system  \n",
              "0           front        dohc             four        mpfi  \n",
              "1           front        dohc             four        mpfi  \n",
              "2           front        ohcv              six        mpfi  \n",
              "3           front         ohc             four        mpfi  \n",
              "4           front         ohc             five        mpfi  "
            ],
            "text/html": [
              "\n",
              "  <div id=\"df-d187ecc1-3af2-4045-a682-cbbd1caddbdb\">\n",
              "    <div class=\"colab-df-container\">\n",
              "      <div>\n",
              "<style scoped>\n",
              "    .dataframe tbody tr th:only-of-type {\n",
              "        vertical-align: middle;\n",
              "    }\n",
              "\n",
              "    .dataframe tbody tr th {\n",
              "        vertical-align: top;\n",
              "    }\n",
              "\n",
              "    .dataframe thead th {\n",
              "        text-align: right;\n",
              "    }\n",
              "</style>\n",
              "<table border=\"1\" class=\"dataframe\">\n",
              "  <thead>\n",
              "    <tr style=\"text-align: right;\">\n",
              "      <th></th>\n",
              "      <th>make</th>\n",
              "      <th>fuel-type</th>\n",
              "      <th>aspiration</th>\n",
              "      <th>num-of-doors</th>\n",
              "      <th>body-style</th>\n",
              "      <th>drive-wheels</th>\n",
              "      <th>engine-location</th>\n",
              "      <th>engine-type</th>\n",
              "      <th>num-of-cylinders</th>\n",
              "      <th>fuel-system</th>\n",
              "    </tr>\n",
              "  </thead>\n",
              "  <tbody>\n",
              "    <tr>\n",
              "      <th>0</th>\n",
              "      <td>alfa-romero</td>\n",
              "      <td>gas</td>\n",
              "      <td>std</td>\n",
              "      <td>two</td>\n",
              "      <td>convertible</td>\n",
              "      <td>rwd</td>\n",
              "      <td>front</td>\n",
              "      <td>dohc</td>\n",
              "      <td>four</td>\n",
              "      <td>mpfi</td>\n",
              "    </tr>\n",
              "    <tr>\n",
              "      <th>1</th>\n",
              "      <td>alfa-romero</td>\n",
              "      <td>gas</td>\n",
              "      <td>std</td>\n",
              "      <td>two</td>\n",
              "      <td>convertible</td>\n",
              "      <td>rwd</td>\n",
              "      <td>front</td>\n",
              "      <td>dohc</td>\n",
              "      <td>four</td>\n",
              "      <td>mpfi</td>\n",
              "    </tr>\n",
              "    <tr>\n",
              "      <th>2</th>\n",
              "      <td>alfa-romero</td>\n",
              "      <td>gas</td>\n",
              "      <td>std</td>\n",
              "      <td>two</td>\n",
              "      <td>hatchback</td>\n",
              "      <td>rwd</td>\n",
              "      <td>front</td>\n",
              "      <td>ohcv</td>\n",
              "      <td>six</td>\n",
              "      <td>mpfi</td>\n",
              "    </tr>\n",
              "    <tr>\n",
              "      <th>3</th>\n",
              "      <td>audi</td>\n",
              "      <td>gas</td>\n",
              "      <td>std</td>\n",
              "      <td>four</td>\n",
              "      <td>sedan</td>\n",
              "      <td>fwd</td>\n",
              "      <td>front</td>\n",
              "      <td>ohc</td>\n",
              "      <td>four</td>\n",
              "      <td>mpfi</td>\n",
              "    </tr>\n",
              "    <tr>\n",
              "      <th>4</th>\n",
              "      <td>audi</td>\n",
              "      <td>gas</td>\n",
              "      <td>std</td>\n",
              "      <td>four</td>\n",
              "      <td>sedan</td>\n",
              "      <td>4wd</td>\n",
              "      <td>front</td>\n",
              "      <td>ohc</td>\n",
              "      <td>five</td>\n",
              "      <td>mpfi</td>\n",
              "    </tr>\n",
              "  </tbody>\n",
              "</table>\n",
              "</div>\n",
              "      <button class=\"colab-df-convert\" onclick=\"convertToInteractive('df-d187ecc1-3af2-4045-a682-cbbd1caddbdb')\"\n",
              "              title=\"Convert this dataframe to an interactive table.\"\n",
              "              style=\"display:none;\">\n",
              "        \n",
              "  <svg xmlns=\"http://www.w3.org/2000/svg\" height=\"24px\"viewBox=\"0 0 24 24\"\n",
              "       width=\"24px\">\n",
              "    <path d=\"M0 0h24v24H0V0z\" fill=\"none\"/>\n",
              "    <path d=\"M18.56 5.44l.94 2.06.94-2.06 2.06-.94-2.06-.94-.94-2.06-.94 2.06-2.06.94zm-11 1L8.5 8.5l.94-2.06 2.06-.94-2.06-.94L8.5 2.5l-.94 2.06-2.06.94zm10 10l.94 2.06.94-2.06 2.06-.94-2.06-.94-.94-2.06-.94 2.06-2.06.94z\"/><path d=\"M17.41 7.96l-1.37-1.37c-.4-.4-.92-.59-1.43-.59-.52 0-1.04.2-1.43.59L10.3 9.45l-7.72 7.72c-.78.78-.78 2.05 0 2.83L4 21.41c.39.39.9.59 1.41.59.51 0 1.02-.2 1.41-.59l7.78-7.78 2.81-2.81c.8-.78.8-2.07 0-2.86zM5.41 20L4 18.59l7.72-7.72 1.47 1.35L5.41 20z\"/>\n",
              "  </svg>\n",
              "      </button>\n",
              "      \n",
              "  <style>\n",
              "    .colab-df-container {\n",
              "      display:flex;\n",
              "      flex-wrap:wrap;\n",
              "      gap: 12px;\n",
              "    }\n",
              "\n",
              "    .colab-df-convert {\n",
              "      background-color: #E8F0FE;\n",
              "      border: none;\n",
              "      border-radius: 50%;\n",
              "      cursor: pointer;\n",
              "      display: none;\n",
              "      fill: #1967D2;\n",
              "      height: 32px;\n",
              "      padding: 0 0 0 0;\n",
              "      width: 32px;\n",
              "    }\n",
              "\n",
              "    .colab-df-convert:hover {\n",
              "      background-color: #E2EBFA;\n",
              "      box-shadow: 0px 1px 2px rgba(60, 64, 67, 0.3), 0px 1px 3px 1px rgba(60, 64, 67, 0.15);\n",
              "      fill: #174EA6;\n",
              "    }\n",
              "\n",
              "    [theme=dark] .colab-df-convert {\n",
              "      background-color: #3B4455;\n",
              "      fill: #D2E3FC;\n",
              "    }\n",
              "\n",
              "    [theme=dark] .colab-df-convert:hover {\n",
              "      background-color: #434B5C;\n",
              "      box-shadow: 0px 1px 3px 1px rgba(0, 0, 0, 0.15);\n",
              "      filter: drop-shadow(0px 1px 2px rgba(0, 0, 0, 0.3));\n",
              "      fill: #FFFFFF;\n",
              "    }\n",
              "  </style>\n",
              "\n",
              "      <script>\n",
              "        const buttonEl =\n",
              "          document.querySelector('#df-d187ecc1-3af2-4045-a682-cbbd1caddbdb button.colab-df-convert');\n",
              "        buttonEl.style.display =\n",
              "          google.colab.kernel.accessAllowed ? 'block' : 'none';\n",
              "\n",
              "        async function convertToInteractive(key) {\n",
              "          const element = document.querySelector('#df-d187ecc1-3af2-4045-a682-cbbd1caddbdb');\n",
              "          const dataTable =\n",
              "            await google.colab.kernel.invokeFunction('convertToInteractive',\n",
              "                                                     [key], {});\n",
              "          if (!dataTable) return;\n",
              "\n",
              "          const docLinkHtml = 'Like what you see? Visit the ' +\n",
              "            '<a target=\"_blank\" href=https://colab.research.google.com/notebooks/data_table.ipynb>data table notebook</a>'\n",
              "            + ' to learn more about interactive tables.';\n",
              "          element.innerHTML = '';\n",
              "          dataTable['output_type'] = 'display_data';\n",
              "          await google.colab.output.renderOutput(dataTable, element);\n",
              "          const docLink = document.createElement('div');\n",
              "          docLink.innerHTML = docLinkHtml;\n",
              "          element.appendChild(docLink);\n",
              "        }\n",
              "      </script>\n",
              "    </div>\n",
              "  </div>\n",
              "  "
            ]
          },
          "metadata": {},
          "execution_count": 46
        }
      ]
    },
    {
      "cell_type": "code",
      "source": [
        "from sklearn.model_selection import train_test_split\n",
        "\n",
        "X_train_full, X_test = train_test_split(df[all_feature_names + [target]], test_size = 0.2, random_state = 1)\n",
        "X_train, X_val = train_test_split(X_train_full, test_size = 0.35, random_state = 1)\n",
        "\n",
        "y_train = X_train[target].values\n",
        "y_val = X_val[target].values\n",
        "y_test = X_test[target].values\n",
        "\n",
        "X_train.drop([target], axis = 1, inplace = True)\n",
        "X_val.drop([target], axis = 1, inplace = True)\n",
        "X_test.drop([target], axis = 1, inplace = True)\n",
        "\n",
        "X_train.head()"
      ],
      "metadata": {
        "id": "OcLbta_9FpUv",
        "colab": {
          "base_uri": "https://localhost:8080/",
          "height": 297
        },
        "outputId": "825bf97a-887c-4c73-d738-bb98a9d8e37f"
      },
      "execution_count": 49,
      "outputs": [
        {
          "output_type": "execute_result",
          "data": {
            "text/plain": [
              "     normalized-losses  wheel-base    length     width    height  curb-weight  \\\n",
              "175           0.130509    0.667864  0.752351  0.858949 -0.729962     0.884724   \n",
              "47           -0.546022   -0.972731 -1.291006 -0.836793  0.129095    -1.325449   \n",
              "102           0.130509   -1.274064 -0.319574  0.955848 -1.670833     1.126155   \n",
              "115           0.017754   -0.872286 -1.441746 -1.030592 -1.220851    -1.270489   \n",
              "84            0.243264   -0.437026 -0.177209 -0.255396 -0.893591    -0.318505   \n",
              "\n",
              "     engine-size      bore    stroke  compression-ratio  ...        make  \\\n",
              "175     1.830066 -0.244628  0.264037           0.752520  ...      toyota   \n",
              "47     -1.074975 -1.148988 -0.732206           0.171938  ...       mazda   \n",
              "102     2.193197  0.358279 -0.134460          -2.150392  ...      nissan   \n",
              "115    -1.111288 -1.375078 -0.333709           0.946048  ...    plymouth   \n",
              "84     -0.385027 -0.621445  0.811971          -2.730974  ...  mitsubishi   \n",
              "\n",
              "     fuel-type  aspiration  num-of-doors body-style drive-wheels  \\\n",
              "175        gas         std           two  hatchback          rwd   \n",
              "47         gas         std           two  hatchback          fwd   \n",
              "102        gas       turbo           two  hatchback          rwd   \n",
              "115        gas         std           two  hatchback          fwd   \n",
              "84         gas       turbo          four      sedan          fwd   \n",
              "\n",
              "    engine-location engine-type num-of-cylinders fuel-system  \n",
              "175           front        dohc              six        mpfi  \n",
              "47            front         ohc             four        2bbl  \n",
              "102           front        ohcv              six        mpfi  \n",
              "115           front         ohc             four        2bbl  \n",
              "84            front         ohc             four        spdi  \n",
              "\n",
              "[5 rows x 24 columns]"
            ],
            "text/html": [
              "\n",
              "  <div id=\"df-af9fb8f1-d4f9-45bb-b3cb-50fea8524b98\">\n",
              "    <div class=\"colab-df-container\">\n",
              "      <div>\n",
              "<style scoped>\n",
              "    .dataframe tbody tr th:only-of-type {\n",
              "        vertical-align: middle;\n",
              "    }\n",
              "\n",
              "    .dataframe tbody tr th {\n",
              "        vertical-align: top;\n",
              "    }\n",
              "\n",
              "    .dataframe thead th {\n",
              "        text-align: right;\n",
              "    }\n",
              "</style>\n",
              "<table border=\"1\" class=\"dataframe\">\n",
              "  <thead>\n",
              "    <tr style=\"text-align: right;\">\n",
              "      <th></th>\n",
              "      <th>normalized-losses</th>\n",
              "      <th>wheel-base</th>\n",
              "      <th>length</th>\n",
              "      <th>width</th>\n",
              "      <th>height</th>\n",
              "      <th>curb-weight</th>\n",
              "      <th>engine-size</th>\n",
              "      <th>bore</th>\n",
              "      <th>stroke</th>\n",
              "      <th>compression-ratio</th>\n",
              "      <th>...</th>\n",
              "      <th>make</th>\n",
              "      <th>fuel-type</th>\n",
              "      <th>aspiration</th>\n",
              "      <th>num-of-doors</th>\n",
              "      <th>body-style</th>\n",
              "      <th>drive-wheels</th>\n",
              "      <th>engine-location</th>\n",
              "      <th>engine-type</th>\n",
              "      <th>num-of-cylinders</th>\n",
              "      <th>fuel-system</th>\n",
              "    </tr>\n",
              "  </thead>\n",
              "  <tbody>\n",
              "    <tr>\n",
              "      <th>175</th>\n",
              "      <td>0.130509</td>\n",
              "      <td>0.667864</td>\n",
              "      <td>0.752351</td>\n",
              "      <td>0.858949</td>\n",
              "      <td>-0.729962</td>\n",
              "      <td>0.884724</td>\n",
              "      <td>1.830066</td>\n",
              "      <td>-0.244628</td>\n",
              "      <td>0.264037</td>\n",
              "      <td>0.752520</td>\n",
              "      <td>...</td>\n",
              "      <td>toyota</td>\n",
              "      <td>gas</td>\n",
              "      <td>std</td>\n",
              "      <td>two</td>\n",
              "      <td>hatchback</td>\n",
              "      <td>rwd</td>\n",
              "      <td>front</td>\n",
              "      <td>dohc</td>\n",
              "      <td>six</td>\n",
              "      <td>mpfi</td>\n",
              "    </tr>\n",
              "    <tr>\n",
              "      <th>47</th>\n",
              "      <td>-0.546022</td>\n",
              "      <td>-0.972731</td>\n",
              "      <td>-1.291006</td>\n",
              "      <td>-0.836793</td>\n",
              "      <td>0.129095</td>\n",
              "      <td>-1.325449</td>\n",
              "      <td>-1.074975</td>\n",
              "      <td>-1.148988</td>\n",
              "      <td>-0.732206</td>\n",
              "      <td>0.171938</td>\n",
              "      <td>...</td>\n",
              "      <td>mazda</td>\n",
              "      <td>gas</td>\n",
              "      <td>std</td>\n",
              "      <td>two</td>\n",
              "      <td>hatchback</td>\n",
              "      <td>fwd</td>\n",
              "      <td>front</td>\n",
              "      <td>ohc</td>\n",
              "      <td>four</td>\n",
              "      <td>2bbl</td>\n",
              "    </tr>\n",
              "    <tr>\n",
              "      <th>102</th>\n",
              "      <td>0.130509</td>\n",
              "      <td>-1.274064</td>\n",
              "      <td>-0.319574</td>\n",
              "      <td>0.955848</td>\n",
              "      <td>-1.670833</td>\n",
              "      <td>1.126155</td>\n",
              "      <td>2.193197</td>\n",
              "      <td>0.358279</td>\n",
              "      <td>-0.134460</td>\n",
              "      <td>-2.150392</td>\n",
              "      <td>...</td>\n",
              "      <td>nissan</td>\n",
              "      <td>gas</td>\n",
              "      <td>turbo</td>\n",
              "      <td>two</td>\n",
              "      <td>hatchback</td>\n",
              "      <td>rwd</td>\n",
              "      <td>front</td>\n",
              "      <td>ohcv</td>\n",
              "      <td>six</td>\n",
              "      <td>mpfi</td>\n",
              "    </tr>\n",
              "    <tr>\n",
              "      <th>115</th>\n",
              "      <td>0.017754</td>\n",
              "      <td>-0.872286</td>\n",
              "      <td>-1.441746</td>\n",
              "      <td>-1.030592</td>\n",
              "      <td>-1.220851</td>\n",
              "      <td>-1.270489</td>\n",
              "      <td>-1.111288</td>\n",
              "      <td>-1.375078</td>\n",
              "      <td>-0.333709</td>\n",
              "      <td>0.946048</td>\n",
              "      <td>...</td>\n",
              "      <td>plymouth</td>\n",
              "      <td>gas</td>\n",
              "      <td>std</td>\n",
              "      <td>two</td>\n",
              "      <td>hatchback</td>\n",
              "      <td>fwd</td>\n",
              "      <td>front</td>\n",
              "      <td>ohc</td>\n",
              "      <td>four</td>\n",
              "      <td>2bbl</td>\n",
              "    </tr>\n",
              "    <tr>\n",
              "      <th>84</th>\n",
              "      <td>0.243264</td>\n",
              "      <td>-0.437026</td>\n",
              "      <td>-0.177209</td>\n",
              "      <td>-0.255396</td>\n",
              "      <td>-0.893591</td>\n",
              "      <td>-0.318505</td>\n",
              "      <td>-0.385027</td>\n",
              "      <td>-0.621445</td>\n",
              "      <td>0.811971</td>\n",
              "      <td>-2.730974</td>\n",
              "      <td>...</td>\n",
              "      <td>mitsubishi</td>\n",
              "      <td>gas</td>\n",
              "      <td>turbo</td>\n",
              "      <td>four</td>\n",
              "      <td>sedan</td>\n",
              "      <td>fwd</td>\n",
              "      <td>front</td>\n",
              "      <td>ohc</td>\n",
              "      <td>four</td>\n",
              "      <td>spdi</td>\n",
              "    </tr>\n",
              "  </tbody>\n",
              "</table>\n",
              "<p>5 rows × 24 columns</p>\n",
              "</div>\n",
              "      <button class=\"colab-df-convert\" onclick=\"convertToInteractive('df-af9fb8f1-d4f9-45bb-b3cb-50fea8524b98')\"\n",
              "              title=\"Convert this dataframe to an interactive table.\"\n",
              "              style=\"display:none;\">\n",
              "        \n",
              "  <svg xmlns=\"http://www.w3.org/2000/svg\" height=\"24px\"viewBox=\"0 0 24 24\"\n",
              "       width=\"24px\">\n",
              "    <path d=\"M0 0h24v24H0V0z\" fill=\"none\"/>\n",
              "    <path d=\"M18.56 5.44l.94 2.06.94-2.06 2.06-.94-2.06-.94-.94-2.06-.94 2.06-2.06.94zm-11 1L8.5 8.5l.94-2.06 2.06-.94-2.06-.94L8.5 2.5l-.94 2.06-2.06.94zm10 10l.94 2.06.94-2.06 2.06-.94-2.06-.94-.94-2.06-.94 2.06-2.06.94z\"/><path d=\"M17.41 7.96l-1.37-1.37c-.4-.4-.92-.59-1.43-.59-.52 0-1.04.2-1.43.59L10.3 9.45l-7.72 7.72c-.78.78-.78 2.05 0 2.83L4 21.41c.39.39.9.59 1.41.59.51 0 1.02-.2 1.41-.59l7.78-7.78 2.81-2.81c.8-.78.8-2.07 0-2.86zM5.41 20L4 18.59l7.72-7.72 1.47 1.35L5.41 20z\"/>\n",
              "  </svg>\n",
              "      </button>\n",
              "      \n",
              "  <style>\n",
              "    .colab-df-container {\n",
              "      display:flex;\n",
              "      flex-wrap:wrap;\n",
              "      gap: 12px;\n",
              "    }\n",
              "\n",
              "    .colab-df-convert {\n",
              "      background-color: #E8F0FE;\n",
              "      border: none;\n",
              "      border-radius: 50%;\n",
              "      cursor: pointer;\n",
              "      display: none;\n",
              "      fill: #1967D2;\n",
              "      height: 32px;\n",
              "      padding: 0 0 0 0;\n",
              "      width: 32px;\n",
              "    }\n",
              "\n",
              "    .colab-df-convert:hover {\n",
              "      background-color: #E2EBFA;\n",
              "      box-shadow: 0px 1px 2px rgba(60, 64, 67, 0.3), 0px 1px 3px 1px rgba(60, 64, 67, 0.15);\n",
              "      fill: #174EA6;\n",
              "    }\n",
              "\n",
              "    [theme=dark] .colab-df-convert {\n",
              "      background-color: #3B4455;\n",
              "      fill: #D2E3FC;\n",
              "    }\n",
              "\n",
              "    [theme=dark] .colab-df-convert:hover {\n",
              "      background-color: #434B5C;\n",
              "      box-shadow: 0px 1px 3px 1px rgba(0, 0, 0, 0.15);\n",
              "      filter: drop-shadow(0px 1px 2px rgba(0, 0, 0, 0.3));\n",
              "      fill: #FFFFFF;\n",
              "    }\n",
              "  </style>\n",
              "\n",
              "      <script>\n",
              "        const buttonEl =\n",
              "          document.querySelector('#df-af9fb8f1-d4f9-45bb-b3cb-50fea8524b98 button.colab-df-convert');\n",
              "        buttonEl.style.display =\n",
              "          google.colab.kernel.accessAllowed ? 'block' : 'none';\n",
              "\n",
              "        async function convertToInteractive(key) {\n",
              "          const element = document.querySelector('#df-af9fb8f1-d4f9-45bb-b3cb-50fea8524b98');\n",
              "          const dataTable =\n",
              "            await google.colab.kernel.invokeFunction('convertToInteractive',\n",
              "                                                     [key], {});\n",
              "          if (!dataTable) return;\n",
              "\n",
              "          const docLinkHtml = 'Like what you see? Visit the ' +\n",
              "            '<a target=\"_blank\" href=https://colab.research.google.com/notebooks/data_table.ipynb>data table notebook</a>'\n",
              "            + ' to learn more about interactive tables.';\n",
              "          element.innerHTML = '';\n",
              "          dataTable['output_type'] = 'display_data';\n",
              "          await google.colab.output.renderOutput(dataTable, element);\n",
              "          const docLink = document.createElement('div');\n",
              "          docLink.innerHTML = docLinkHtml;\n",
              "          element.appendChild(docLink);\n",
              "        }\n",
              "      </script>\n",
              "    </div>\n",
              "  </div>\n",
              "  "
            ]
          },
          "metadata": {},
          "execution_count": 49
        }
      ]
    },
    {
      "cell_type": "markdown",
      "source": [
        "# Ingeniería de propiedades"
      ],
      "metadata": {
        "id": "R4P_-MF1FvPX"
      }
    },
    {
      "cell_type": "code",
      "source": [
        "train_dict = X_train[all_feature_names].to_dict(orient = 'records')\n",
        "dict(sorted(train_dict[0].items()))"
      ],
      "metadata": {
        "id": "BpWjtdjrFzg4",
        "colab": {
          "base_uri": "https://localhost:8080/"
        },
        "outputId": "25406970-c580-4d12-8e8d-ad13c14530fa"
      },
      "execution_count": 51,
      "outputs": [
        {
          "output_type": "execute_result",
          "data": {
            "text/plain": [
              "{'aspiration': 'std',\n",
              " 'body-style': 'hatchback',\n",
              " 'bore': -0.24462803425599844,\n",
              " 'city-mpg': -0.9893145656064076,\n",
              " 'compression-ratio': 0.7525203414906869,\n",
              " 'curb-weight': 0.8847240463122479,\n",
              " 'drive-wheels': 'rwd',\n",
              " 'engine-location': 'front',\n",
              " 'engine-size': 1.8300664046526876,\n",
              " 'engine-type': 'dohc',\n",
              " 'fuel-system': 'mpfi',\n",
              " 'fuel-type': 'gas',\n",
              " 'height': -0.729961615842664,\n",
              " 'highway-mpg': -1.003648999899683,\n",
              " 'horsepower': 1.8670807158607476,\n",
              " 'length': 0.7523505829356283,\n",
              " 'make': 'toyota',\n",
              " 'normalized-losses': 0.13050879764989035,\n",
              " 'num-of-cylinders': 'six',\n",
              " 'num-of-doors': 'two',\n",
              " 'peak-rpm': 0.2098482455642747,\n",
              " 'stroke': 0.26403715696412317,\n",
              " 'wheel-base': 0.6678636862291726,\n",
              " 'width': 0.8589487477877656}"
            ]
          },
          "metadata": {},
          "execution_count": 51
        }
      ]
    },
    {
      "cell_type": "code",
      "source": [
        "from sklearn.feature_extraction import DictVectorizer\n",
        "\n",
        "dv = DictVectorizer(sparse = False)\n",
        "dv.fit(train_dict)\n",
        "\n",
        "X_train = dv.transform(train_dict)\n",
        "X_train[0]"
      ],
      "metadata": {
        "id": "22iE6ADOF3Nt",
        "colab": {
          "base_uri": "https://localhost:8080/"
        },
        "outputId": "e186c209-4954-4ec3-9cf6-bbb943ecef59"
      },
      "execution_count": 52,
      "outputs": [
        {
          "output_type": "execute_result",
          "data": {
            "text/plain": [
              "array([ 1.        ,  0.        ,  0.        ,  0.        ,  1.        ,\n",
              "        0.        ,  0.        , -0.24462803, -0.98931457,  0.75252034,\n",
              "        0.88472405,  0.        ,  0.        ,  1.        ,  1.        ,\n",
              "        0.        ,  1.8300664 ,  1.        ,  0.        ,  0.        ,\n",
              "        0.        ,  0.        ,  0.        ,  0.        ,  0.        ,\n",
              "        0.        ,  0.        ,  1.        ,  0.        ,  0.        ,\n",
              "        1.        , -0.72996162, -1.003649  ,  1.86708072,  0.75235058,\n",
              "        0.        ,  0.        ,  0.        ,  0.        ,  0.        ,\n",
              "        0.        ,  0.        ,  0.        ,  0.        ,  0.        ,\n",
              "        0.        ,  0.        ,  0.        ,  0.        ,  0.        ,\n",
              "        0.        ,  0.        ,  0.        ,  1.        ,  0.        ,\n",
              "        0.        ,  0.1305088 ,  0.        ,  0.        ,  0.        ,\n",
              "        1.        ,  0.        ,  0.        ,  1.        ,  0.20984825,\n",
              "        0.26403716,  0.66786369,  0.85894875])"
            ]
          },
          "metadata": {},
          "execution_count": 52
        }
      ]
    },
    {
      "cell_type": "code",
      "source": [
        "dv.get_feature_names_out()"
      ],
      "metadata": {
        "id": "qChsjVfPF_AL",
        "colab": {
          "base_uri": "https://localhost:8080/"
        },
        "outputId": "ae555597-13a5-4c10-f585-095298f7e12f"
      },
      "execution_count": 53,
      "outputs": [
        {
          "output_type": "execute_result",
          "data": {
            "text/plain": [
              "array(['aspiration=std', 'aspiration=turbo', 'body-style=convertible',\n",
              "       'body-style=hardtop', 'body-style=hatchback', 'body-style=sedan',\n",
              "       'body-style=wagon', 'bore', 'city-mpg', 'compression-ratio',\n",
              "       'curb-weight', 'drive-wheels=4wd', 'drive-wheels=fwd',\n",
              "       'drive-wheels=rwd', 'engine-location=front',\n",
              "       'engine-location=rear', 'engine-size', 'engine-type=dohc',\n",
              "       'engine-type=l', 'engine-type=ohc', 'engine-type=ohcf',\n",
              "       'engine-type=ohcv', 'engine-type=rotor', 'fuel-system=1bbl',\n",
              "       'fuel-system=2bbl', 'fuel-system=4bbl', 'fuel-system=idi',\n",
              "       'fuel-system=mpfi', 'fuel-system=spdi', 'fuel-type=diesel',\n",
              "       'fuel-type=gas', 'height', 'highway-mpg', 'horsepower', 'length',\n",
              "       'make=alfa-romero', 'make=audi', 'make=bmw', 'make=chevrolet',\n",
              "       'make=dodge', 'make=honda', 'make=jaguar', 'make=mazda',\n",
              "       'make=mercedes-benz', 'make=mercury', 'make=mitsubishi',\n",
              "       'make=nissan', 'make=peugot', 'make=plymouth', 'make=porsche',\n",
              "       'make=renault', 'make=saab', 'make=subaru', 'make=toyota',\n",
              "       'make=volkswagen', 'make=volvo', 'normalized-losses',\n",
              "       'num-of-cylinders=eight', 'num-of-cylinders=five',\n",
              "       'num-of-cylinders=four', 'num-of-cylinders=six',\n",
              "       'num-of-cylinders=two', 'num-of-doors=four', 'num-of-doors=two',\n",
              "       'peak-rpm', 'stroke', 'wheel-base', 'width'], dtype=object)"
            ]
          },
          "metadata": {},
          "execution_count": 53
        }
      ]
    },
    {
      "cell_type": "markdown",
      "source": [
        "# Entrenamiento del modelo"
      ],
      "metadata": {
        "id": "kZ9G877cGFSP"
      }
    },
    {
      "cell_type": "code",
      "source": [
        "from sklearn.linear_model import LinearRegression\n",
        "\n",
        "model = LinearRegression()\n",
        "model.fit(X_train, y_train)"
      ],
      "metadata": {
        "id": "L5TkraEgGIpP",
        "colab": {
          "base_uri": "https://localhost:8080/",
          "height": 75
        },
        "outputId": "fcb932c9-4667-4d04-aaaf-d417f01a05b4"
      },
      "execution_count": 54,
      "outputs": [
        {
          "output_type": "execute_result",
          "data": {
            "text/plain": [
              "LinearRegression()"
            ],
            "text/html": [
              "<style>#sk-container-id-1 {color: black;background-color: white;}#sk-container-id-1 pre{padding: 0;}#sk-container-id-1 div.sk-toggleable {background-color: white;}#sk-container-id-1 label.sk-toggleable__label {cursor: pointer;display: block;width: 100%;margin-bottom: 0;padding: 0.3em;box-sizing: border-box;text-align: center;}#sk-container-id-1 label.sk-toggleable__label-arrow:before {content: \"▸\";float: left;margin-right: 0.25em;color: #696969;}#sk-container-id-1 label.sk-toggleable__label-arrow:hover:before {color: black;}#sk-container-id-1 div.sk-estimator:hover label.sk-toggleable__label-arrow:before {color: black;}#sk-container-id-1 div.sk-toggleable__content {max-height: 0;max-width: 0;overflow: hidden;text-align: left;background-color: #f0f8ff;}#sk-container-id-1 div.sk-toggleable__content pre {margin: 0.2em;color: black;border-radius: 0.25em;background-color: #f0f8ff;}#sk-container-id-1 input.sk-toggleable__control:checked~div.sk-toggleable__content {max-height: 200px;max-width: 100%;overflow: auto;}#sk-container-id-1 input.sk-toggleable__control:checked~label.sk-toggleable__label-arrow:before {content: \"▾\";}#sk-container-id-1 div.sk-estimator input.sk-toggleable__control:checked~label.sk-toggleable__label {background-color: #d4ebff;}#sk-container-id-1 div.sk-label input.sk-toggleable__control:checked~label.sk-toggleable__label {background-color: #d4ebff;}#sk-container-id-1 input.sk-hidden--visually {border: 0;clip: rect(1px 1px 1px 1px);clip: rect(1px, 1px, 1px, 1px);height: 1px;margin: -1px;overflow: hidden;padding: 0;position: absolute;width: 1px;}#sk-container-id-1 div.sk-estimator {font-family: monospace;background-color: #f0f8ff;border: 1px dotted black;border-radius: 0.25em;box-sizing: border-box;margin-bottom: 0.5em;}#sk-container-id-1 div.sk-estimator:hover {background-color: #d4ebff;}#sk-container-id-1 div.sk-parallel-item::after {content: \"\";width: 100%;border-bottom: 1px solid gray;flex-grow: 1;}#sk-container-id-1 div.sk-label:hover label.sk-toggleable__label {background-color: #d4ebff;}#sk-container-id-1 div.sk-serial::before {content: \"\";position: absolute;border-left: 1px solid gray;box-sizing: border-box;top: 0;bottom: 0;left: 50%;z-index: 0;}#sk-container-id-1 div.sk-serial {display: flex;flex-direction: column;align-items: center;background-color: white;padding-right: 0.2em;padding-left: 0.2em;position: relative;}#sk-container-id-1 div.sk-item {position: relative;z-index: 1;}#sk-container-id-1 div.sk-parallel {display: flex;align-items: stretch;justify-content: center;background-color: white;position: relative;}#sk-container-id-1 div.sk-item::before, #sk-container-id-1 div.sk-parallel-item::before {content: \"\";position: absolute;border-left: 1px solid gray;box-sizing: border-box;top: 0;bottom: 0;left: 50%;z-index: -1;}#sk-container-id-1 div.sk-parallel-item {display: flex;flex-direction: column;z-index: 1;position: relative;background-color: white;}#sk-container-id-1 div.sk-parallel-item:first-child::after {align-self: flex-end;width: 50%;}#sk-container-id-1 div.sk-parallel-item:last-child::after {align-self: flex-start;width: 50%;}#sk-container-id-1 div.sk-parallel-item:only-child::after {width: 0;}#sk-container-id-1 div.sk-dashed-wrapped {border: 1px dashed gray;margin: 0 0.4em 0.5em 0.4em;box-sizing: border-box;padding-bottom: 0.4em;background-color: white;}#sk-container-id-1 div.sk-label label {font-family: monospace;font-weight: bold;display: inline-block;line-height: 1.2em;}#sk-container-id-1 div.sk-label-container {text-align: center;}#sk-container-id-1 div.sk-container {/* jupyter's `normalize.less` sets `[hidden] { display: none; }` but bootstrap.min.css set `[hidden] { display: none !important; }` so we also need the `!important` here to be able to override the default hidden behavior on the sphinx rendered scikit-learn.org. See: https://github.com/scikit-learn/scikit-learn/issues/21755 */display: inline-block !important;position: relative;}#sk-container-id-1 div.sk-text-repr-fallback {display: none;}</style><div id=\"sk-container-id-1\" class=\"sk-top-container\"><div class=\"sk-text-repr-fallback\"><pre>LinearRegression()</pre><b>In a Jupyter environment, please rerun this cell to show the HTML representation or trust the notebook. <br />On GitHub, the HTML representation is unable to render, please try loading this page with nbviewer.org.</b></div><div class=\"sk-container\" hidden><div class=\"sk-item\"><div class=\"sk-estimator sk-toggleable\"><input class=\"sk-toggleable__control sk-hidden--visually\" id=\"sk-estimator-id-1\" type=\"checkbox\" checked><label for=\"sk-estimator-id-1\" class=\"sk-toggleable__label sk-toggleable__label-arrow\">LinearRegression</label><div class=\"sk-toggleable__content\"><pre>LinearRegression()</pre></div></div></div></div></div>"
            ]
          },
          "metadata": {},
          "execution_count": 54
        }
      ]
    },
    {
      "cell_type": "code",
      "source": [
        "model.score(X_train, y_train)"
      ],
      "metadata": {
        "id": "wCy-QPFVGNBh",
        "colab": {
          "base_uri": "https://localhost:8080/"
        },
        "outputId": "aa0b5d49-4050-4d19-9809-5353244fe181"
      },
      "execution_count": 55,
      "outputs": [
        {
          "output_type": "execute_result",
          "data": {
            "text/plain": [
              "0.9848561393759366"
            ]
          },
          "metadata": {},
          "execution_count": 55
        }
      ]
    },
    {
      "cell_type": "code",
      "source": [
        "X_val = dv.transform(X_val[all_feature_names].to_dict(orient = 'records'))\n",
        "model.score(X_val, y_val)"
      ],
      "metadata": {
        "id": "bnOuhYPNGSQQ",
        "colab": {
          "base_uri": "https://localhost:8080/"
        },
        "outputId": "c83a717e-cfa2-4189-eccd-dae57a2b857c"
      },
      "execution_count": 56,
      "outputs": [
        {
          "output_type": "execute_result",
          "data": {
            "text/plain": [
              "0.6848979048059383"
            ]
          },
          "metadata": {},
          "execution_count": 56
        }
      ]
    },
    {
      "cell_type": "code",
      "source": [
        "X_test = dv.transform(X_test[all_feature_names].to_dict(orient = 'records'))\n",
        "y_pred = model.predict(X_test)\n",
        "model.score(X_test, y_test)"
      ],
      "metadata": {
        "id": "H_jyJN3tGV_h",
        "colab": {
          "base_uri": "https://localhost:8080/"
        },
        "outputId": "c37658c6-d5f2-434c-851b-0307249fa37a"
      },
      "execution_count": 57,
      "outputs": [
        {
          "output_type": "execute_result",
          "data": {
            "text/plain": [
              "0.9106601703430208"
            ]
          },
          "metadata": {},
          "execution_count": 57
        }
      ]
    },
    {
      "cell_type": "code",
      "source": [
        "import matplotlib.pyplot as plt\n",
        "import numpy as np\n",
        "\n",
        "ind = np.arange(15)\n",
        "width = 0.5\n",
        "\n",
        "plt.figure(figsize = (14, 6))\n",
        "plt.bar(ind, y_test[:15], width, label = 'Precio de venta real')\n",
        "plt.bar(ind+width, y_pred[:15], width, label = 'Precio de venta predicho')\n",
        "\n",
        "plt.xticks(ind+width / 2, np.arange(1, 16))\n",
        "plt.legend(loc = 'best')\n",
        "\n",
        "plt.xlabel('Coches')\n",
        "plt.ylabel('Precio de venta')\n",
        "plt.title('Precio de venta - Real vs. Predicho')\n",
        "\n",
        "plt.show()"
      ],
      "metadata": {
        "colab": {
          "base_uri": "https://localhost:8080/",
          "height": 404
        },
        "id": "Lpl0vm-MGZ9F",
        "outputId": "87fdb58f-2759-41d4-cbb4-cb20a07ea33f"
      },
      "execution_count": 60,
      "outputs": [
        {
          "output_type": "display_data",
          "data": {
            "text/plain": [
              "<Figure size 1008x432 with 1 Axes>"
            ],
            "image/png": "[encoded data removed]"
          },
          "metadata": {
            "needs_background": "light"
          }
        }
      ]
    },
    {
      "cell_type": "markdown",
      "source": [
        "# Modelo basado en una red neuronal"
      ],
      "metadata": {
        "id": "w_ALdnsK3PJ1"
      }
    },
    {
      "cell_type": "code",
      "source": [
        "from tensorflow.keras.models import Sequential\n",
        "from tensorflow.keras.layers import Dense\n",
        "from keras.optimizers import Adam\n",
        "import matplotlib.pyplot as plt\n",
        "\n",
        "model = Sequential()\n",
        "input_shape = len(X_train[0])\n",
        "print('Num entradas:',input_shape)\n",
        "\n",
        "model.add(Dense(int(len(X_train[0])), input_shape=(input_shape,), activation='relu', kernel_initializer='he_uniform'))\n",
        "model.add(Dense(int(len(X_train[0])/2), activation='relu', kernel_initializer='he_uniform'))\n",
        "model.add(Dense(1, activation='linear', kernel_initializer='glorot_uniform'))\n",
        "\n",
        "model.summary()"
      ],
      "metadata": {
        "id": "fmSXlHTm2_dQ",
        "colab": {
          "base_uri": "https://localhost:8080/"
        },
        "outputId": "0e48ae98-52fc-4d5c-a300-dbff0675c42b"
      },
      "execution_count": 61,
      "outputs": [
        {
          "output_type": "stream",
          "name": "stdout",
          "text": [
            "Num entradas: 68\n",
            "Model: \"sequential\"\n",
            "_________________________________________________________________\n",
            " Layer (type)                Output Shape              Param #   \n",
            "=================================================================\n",
            " dense (Dense)               (None, 68)                4692      \n",
            "                                                                 \n",
            " dense_1 (Dense)             (None, 34)                2346      \n",
            "                                                                 \n",
            " dense_2 (Dense)             (None, 1)                 35        \n",
            "                                                                 \n",
            "=================================================================\n",
            "Total params: 7,073\n",
            "Trainable params: 7,073\n",
            "Non-trainable params: 0\n",
            "_________________________________________________________________\n"
          ]
        }
      ]
    },
    {
      "cell_type": "code",
      "source": [
        "model.compile(loss='mean_squared_error', optimizer=Adam(lr=0.001))"
      ],
      "metadata": {
        "colab": {
          "base_uri": "https://localhost:8080/"
        },
        "id": "qk5AmMSil4kc",
        "outputId": "0027625a-4d38-484d-e554-6d44410c23c1"
      },
      "execution_count": 62,
      "outputs": [
        {
          "output_type": "stream",
          "name": "stderr",
          "text": [
            "/usr/local/lib/python3.9/dist-packages/keras/optimizers/optimizer_v2/adam.py:117: UserWarning: The `lr` argument is deprecated, use `learning_rate` instead.\n",
            "  super().__init__(name, **kwargs)\n"
          ]
        }
      ]
    },
    {
      "cell_type": "code",
      "source": [
        "history = model.fit(X_train, y_train, epochs=500, batch_size=int(len(X_train[0])/3))"
      ],
      "metadata": {
        "colab": {
          "base_uri": "https://localhost:8080/"
        },
        "id": "84NaAI_Al6u1",
        "outputId": "f98ea9f0-60b4-4e24-cb03-3ae25958a46b"
      },
      "execution_count": 64,
      "outputs": [
        {
          "output_type": "stream",
          "name": "stdout",
          "text": [
            "Epoch 1/500\n",
            "5/5 [==============================] - 0s 3ms/step - loss: 184896080.0000\n",
            "Epoch 2/500\n",
            "5/5 [==============================] - 0s 2ms/step - loss: 181277712.0000\n",
            "Epoch 3/500\n",
            "5/5 [==============================] - 0s 2ms/step - loss: 177343792.0000\n",
            "Epoch 4/500\n",
            "5/5 [==============================] - 0s 2ms/step - loss: 173729808.0000\n",
            "Epoch 5/500\n",
            "5/5 [==============================] - 0s 2ms/step - loss: 169768992.0000\n",
            "Epoch 6/500\n",
            "5/5 [==============================] - 0s 4ms/step - loss: 165937616.0000\n",
            "Epoch 7/500\n",
            "5/5 [==============================] - 0s 2ms/step - loss: 161952624.0000\n",
            "Epoch 8/500\n",
            "5/5 [==============================] - 0s 3ms/step - loss: 157940480.0000\n",
            "Epoch 9/500\n",
            "5/5 [==============================] - 0s 2ms/step - loss: 153817792.0000\n",
            "Epoch 10/500\n",
            "5/5 [==============================] - 0s 5ms/step - loss: 150240176.0000\n",
            "Epoch 11/500\n",
            "5/5 [==============================] - 0s 3ms/step - loss: 146063200.0000\n",
            "Epoch 12/500\n",
            "5/5 [==============================] - 0s 4ms/step - loss: 142013264.0000\n",
            "Epoch 13/500\n",
            "5/5 [==============================] - 0s 4ms/step - loss: 137817456.0000\n",
            "Epoch 14/500\n",
            "5/5 [==============================] - 0s 4ms/step - loss: 134072328.0000\n",
            "Epoch 15/500\n",
            "5/5 [==============================] - 0s 4ms/step - loss: 129930696.0000\n",
            "Epoch 16/500\n",
            "5/5 [==============================] - 0s 4ms/step - loss: 126276776.0000\n",
            "Epoch 17/500\n",
            "5/5 [==============================] - 0s 4ms/step - loss: 122099592.0000\n",
            "Epoch 18/500\n",
            "5/5 [==============================] - 0s 4ms/step - loss: 118232192.0000\n",
            "Epoch 19/500\n",
            "5/5 [==============================] - 0s 5ms/step - loss: 114567816.0000\n",
            "Epoch 20/500\n",
            "5/5 [==============================] - 0s 7ms/step - loss: 110718048.0000\n",
            "Epoch 21/500\n",
            "5/5 [==============================] - 0s 4ms/step - loss: 106885896.0000\n",
            "Epoch 22/500\n",
            "5/5 [==============================] - 0s 4ms/step - loss: 103270024.0000\n",
            "Epoch 23/500\n",
            "5/5 [==============================] - 0s 5ms/step - loss: 99668992.0000\n",
            "Epoch 24/500\n",
            "5/5 [==============================] - 0s 5ms/step - loss: 96017296.0000\n",
            "Epoch 25/500\n",
            "5/5 [==============================] - 0s 4ms/step - loss: 92577872.0000\n",
            "Epoch 26/500\n",
            "5/5 [==============================] - 0s 4ms/step - loss: 89333744.0000\n",
            "Epoch 27/500\n",
            "5/5 [==============================] - 0s 5ms/step - loss: 85858184.0000\n",
            "Epoch 28/500\n",
            "5/5 [==============================] - 0s 4ms/step - loss: 82552688.0000\n",
            "Epoch 29/500\n",
            "5/5 [==============================] - 0s 7ms/step - loss: 79533560.0000\n",
            "Epoch 30/500\n",
            "5/5 [==============================] - 0s 4ms/step - loss: 76337864.0000\n",
            "Epoch 31/500\n",
            "5/5 [==============================] - 0s 5ms/step - loss: 73485016.0000\n",
            "Epoch 32/500\n",
            "5/5 [==============================] - 0s 8ms/step - loss: 70489992.0000\n",
            "Epoch 33/500\n",
            "5/5 [==============================] - 0s 4ms/step - loss: 67713720.0000\n",
            "Epoch 34/500\n",
            "5/5 [==============================] - 0s 5ms/step - loss: 65185612.0000\n",
            "Epoch 35/500\n",
            "5/5 [==============================] - 0s 4ms/step - loss: 62571480.0000\n",
            "Epoch 36/500\n",
            "5/5 [==============================] - 0s 5ms/step - loss: 60041832.0000\n",
            "Epoch 37/500\n",
            "5/5 [==============================] - 0s 5ms/step - loss: 57626072.0000\n",
            "Epoch 38/500\n",
            "5/5 [==============================] - 0s 6ms/step - loss: 55521620.0000\n",
            "Epoch 39/500\n",
            "5/5 [==============================] - 0s 4ms/step - loss: 53447452.0000\n",
            "Epoch 40/500\n",
            "5/5 [==============================] - 0s 7ms/step - loss: 51201452.0000\n",
            "Epoch 41/500\n",
            "5/5 [==============================] - 0s 4ms/step - loss: 49325144.0000\n",
            "Epoch 42/500\n",
            "5/5 [==============================] - 0s 5ms/step - loss: 47541468.0000\n",
            "Epoch 43/500\n",
            "5/5 [==============================] - 0s 3ms/step - loss: 45736064.0000\n",
            "Epoch 44/500\n",
            "5/5 [==============================] - 0s 3ms/step - loss: 44108740.0000\n",
            "Epoch 45/500\n",
            "5/5 [==============================] - 0s 5ms/step - loss: 42485616.0000\n",
            "Epoch 46/500\n",
            "5/5 [==============================] - 0s 6ms/step - loss: 41047668.0000\n",
            "Epoch 47/500\n",
            "5/5 [==============================] - 0s 6ms/step - loss: 39744220.0000\n",
            "Epoch 48/500\n",
            "5/5 [==============================] - 0s 6ms/step - loss: 38412040.0000\n",
            "Epoch 49/500\n",
            "5/5 [==============================] - 0s 6ms/step - loss: 37162940.0000\n",
            "Epoch 50/500\n",
            "5/5 [==============================] - 0s 9ms/step - loss: 36101328.0000\n",
            "Epoch 51/500\n",
            "5/5 [==============================] - 0s 6ms/step - loss: 35092680.0000\n",
            "Epoch 52/500\n",
            "5/5 [==============================] - 0s 6ms/step - loss: 34019188.0000\n",
            "Epoch 53/500\n",
            "5/5 [==============================] - 0s 6ms/step - loss: 33293648.0000\n",
            "Epoch 54/500\n",
            "5/5 [==============================] - 0s 4ms/step - loss: 32505556.0000\n",
            "Epoch 55/500\n",
            "5/5 [==============================] - 0s 3ms/step - loss: 31684116.0000\n",
            "Epoch 56/500\n",
            "5/5 [==============================] - 0s 4ms/step - loss: 31041532.0000\n",
            "Epoch 57/500\n",
            "5/5 [==============================] - 0s 5ms/step - loss: 30396112.0000\n",
            "Epoch 58/500\n",
            "5/5 [==============================] - 0s 6ms/step - loss: 29766284.0000\n",
            "Epoch 59/500\n",
            "5/5 [==============================] - 0s 5ms/step - loss: 29270120.0000\n",
            "Epoch 60/500\n",
            "5/5 [==============================] - 0s 5ms/step - loss: 28788566.0000\n",
            "Epoch 61/500\n",
            "5/5 [==============================] - 0s 7ms/step - loss: 28317908.0000\n",
            "Epoch 62/500\n",
            "5/5 [==============================] - 0s 5ms/step - loss: 27929272.0000\n",
            "Epoch 63/500\n",
            "5/5 [==============================] - 0s 3ms/step - loss: 27525498.0000\n",
            "Epoch 64/500\n",
            "5/5 [==============================] - 0s 4ms/step - loss: 27142342.0000\n",
            "Epoch 65/500\n",
            "5/5 [==============================] - 0s 5ms/step - loss: 26911408.0000\n",
            "Epoch 66/500\n",
            "5/5 [==============================] - 0s 5ms/step - loss: 26614106.0000\n",
            "Epoch 67/500\n",
            "5/5 [==============================] - 0s 4ms/step - loss: 26327020.0000\n",
            "Epoch 68/500\n",
            "5/5 [==============================] - 0s 3ms/step - loss: 26102698.0000\n",
            "Epoch 69/500\n",
            "5/5 [==============================] - 0s 3ms/step - loss: 25852160.0000\n",
            "Epoch 70/500\n",
            "5/5 [==============================] - 0s 5ms/step - loss: 25643988.0000\n",
            "Epoch 71/500\n",
            "5/5 [==============================] - 0s 5ms/step - loss: 25461824.0000\n",
            "Epoch 72/500\n",
            "5/5 [==============================] - 0s 6ms/step - loss: 25255016.0000\n",
            "Epoch 73/500\n",
            "5/5 [==============================] - 0s 4ms/step - loss: 25094612.0000\n",
            "Epoch 74/500\n",
            "5/5 [==============================] - 0s 5ms/step - loss: 24938674.0000\n",
            "Epoch 75/500\n",
            "5/5 [==============================] - 0s 6ms/step - loss: 24772580.0000\n",
            "Epoch 76/500\n",
            "5/5 [==============================] - 0s 5ms/step - loss: 24643982.0000\n",
            "Epoch 77/500\n",
            "5/5 [==============================] - 0s 5ms/step - loss: 24481914.0000\n",
            "Epoch 78/500\n",
            "5/5 [==============================] - 0s 5ms/step - loss: 24360968.0000\n",
            "Epoch 79/500\n",
            "5/5 [==============================] - 0s 5ms/step - loss: 24205504.0000\n",
            "Epoch 80/500\n",
            "5/5 [==============================] - 0s 5ms/step - loss: 24084522.0000\n",
            "Epoch 81/500\n",
            "5/5 [==============================] - 0s 5ms/step - loss: 23967628.0000\n",
            "Epoch 82/500\n",
            "5/5 [==============================] - 0s 5ms/step - loss: 23847380.0000\n",
            "Epoch 83/500\n",
            "5/5 [==============================] - 0s 3ms/step - loss: 23744070.0000\n",
            "Epoch 84/500\n",
            "5/5 [==============================] - 0s 5ms/step - loss: 23635904.0000\n",
            "Epoch 85/500\n",
            "5/5 [==============================] - 0s 5ms/step - loss: 23516262.0000\n",
            "Epoch 86/500\n",
            "5/5 [==============================] - 0s 5ms/step - loss: 23420000.0000\n",
            "Epoch 87/500\n",
            "5/5 [==============================] - 0s 5ms/step - loss: 23322546.0000\n",
            "Epoch 88/500\n",
            "5/5 [==============================] - 0s 4ms/step - loss: 23223330.0000\n",
            "Epoch 89/500\n",
            "5/5 [==============================] - 0s 5ms/step - loss: 23135148.0000\n",
            "Epoch 90/500\n",
            "5/5 [==============================] - 0s 7ms/step - loss: 23034668.0000\n",
            "Epoch 91/500\n",
            "5/5 [==============================] - 0s 4ms/step - loss: 22952686.0000\n",
            "Epoch 92/500\n",
            "5/5 [==============================] - 0s 5ms/step - loss: 22842276.0000\n",
            "Epoch 93/500\n",
            "5/5 [==============================] - 0s 6ms/step - loss: 22768084.0000\n",
            "Epoch 94/500\n",
            "5/5 [==============================] - 0s 4ms/step - loss: 22675326.0000\n",
            "Epoch 95/500\n",
            "5/5 [==============================] - 0s 5ms/step - loss: 22597762.0000\n",
            "Epoch 96/500\n",
            "5/5 [==============================] - 0s 5ms/step - loss: 22505192.0000\n",
            "Epoch 97/500\n",
            "5/5 [==============================] - 0s 5ms/step - loss: 22425180.0000\n",
            "Epoch 98/500\n",
            "5/5 [==============================] - 0s 5ms/step - loss: 22336170.0000\n",
            "Epoch 99/500\n",
            "5/5 [==============================] - 0s 6ms/step - loss: 22253142.0000\n",
            "Epoch 100/500\n",
            "5/5 [==============================] - 0s 6ms/step - loss: 22179250.0000\n",
            "Epoch 101/500\n",
            "5/5 [==============================] - 0s 5ms/step - loss: 22104588.0000\n",
            "Epoch 102/500\n",
            "5/5 [==============================] - 0s 7ms/step - loss: 22022376.0000\n",
            "Epoch 103/500\n",
            "5/5 [==============================] - 0s 6ms/step - loss: 21941380.0000\n",
            "Epoch 104/500\n",
            "5/5 [==============================] - 0s 7ms/step - loss: 21866966.0000\n",
            "Epoch 105/500\n",
            "5/5 [==============================] - 0s 7ms/step - loss: 21791208.0000\n",
            "Epoch 106/500\n",
            "5/5 [==============================] - 0s 4ms/step - loss: 21720094.0000\n",
            "Epoch 107/500\n",
            "5/5 [==============================] - 0s 5ms/step - loss: 21655932.0000\n",
            "Epoch 108/500\n",
            "5/5 [==============================] - 0s 5ms/step - loss: 21584360.0000\n",
            "Epoch 109/500\n",
            "5/5 [==============================] - 0s 4ms/step - loss: 21501270.0000\n",
            "Epoch 110/500\n",
            "5/5 [==============================] - 0s 5ms/step - loss: 21429674.0000\n",
            "Epoch 111/500\n",
            "5/5 [==============================] - 0s 5ms/step - loss: 21364738.0000\n",
            "Epoch 112/500\n",
            "5/5 [==============================] - 0s 4ms/step - loss: 21287894.0000\n",
            "Epoch 113/500\n",
            "5/5 [==============================] - 0s 4ms/step - loss: 21216276.0000\n",
            "Epoch 114/500\n",
            "5/5 [==============================] - 0s 6ms/step - loss: 21144596.0000\n",
            "Epoch 115/500\n",
            "5/5 [==============================] - 0s 4ms/step - loss: 21070582.0000\n",
            "Epoch 116/500\n",
            "5/5 [==============================] - 0s 5ms/step - loss: 21017040.0000\n",
            "Epoch 117/500\n",
            "5/5 [==============================] - 0s 4ms/step - loss: 20933794.0000\n",
            "Epoch 118/500\n",
            "5/5 [==============================] - 0s 3ms/step - loss: 20862370.0000\n",
            "Epoch 119/500\n",
            "5/5 [==============================] - 0s 4ms/step - loss: 20788516.0000\n",
            "Epoch 120/500\n",
            "5/5 [==============================] - 0s 3ms/step - loss: 20718572.0000\n",
            "Epoch 121/500\n",
            "5/5 [==============================] - 0s 3ms/step - loss: 20653616.0000\n",
            "Epoch 122/500\n",
            "5/5 [==============================] - 0s 4ms/step - loss: 20596002.0000\n",
            "Epoch 123/500\n",
            "5/5 [==============================] - 0s 5ms/step - loss: 20518530.0000\n",
            "Epoch 124/500\n",
            "5/5 [==============================] - 0s 4ms/step - loss: 20451464.0000\n",
            "Epoch 125/500\n",
            "5/5 [==============================] - 0s 3ms/step - loss: 20386396.0000\n",
            "Epoch 126/500\n",
            "5/5 [==============================] - 0s 3ms/step - loss: 20308144.0000\n",
            "Epoch 127/500\n",
            "5/5 [==============================] - 0s 4ms/step - loss: 20240800.0000\n",
            "Epoch 128/500\n",
            "5/5 [==============================] - 0s 4ms/step - loss: 20175890.0000\n",
            "Epoch 129/500\n",
            "5/5 [==============================] - 0s 3ms/step - loss: 20107036.0000\n",
            "Epoch 130/500\n",
            "5/5 [==============================] - 0s 4ms/step - loss: 20039750.0000\n",
            "Epoch 131/500\n",
            "5/5 [==============================] - 0s 5ms/step - loss: 19969628.0000\n",
            "Epoch 132/500\n",
            "5/5 [==============================] - 0s 5ms/step - loss: 19914438.0000\n",
            "Epoch 133/500\n",
            "5/5 [==============================] - 0s 5ms/step - loss: 19836260.0000\n",
            "Epoch 134/500\n",
            "5/5 [==============================] - 0s 5ms/step - loss: 19768342.0000\n",
            "Epoch 135/500\n",
            "5/5 [==============================] - 0s 5ms/step - loss: 19701770.0000\n",
            "Epoch 136/500\n",
            "5/5 [==============================] - 0s 6ms/step - loss: 19677852.0000\n",
            "Epoch 137/500\n",
            "5/5 [==============================] - 0s 7ms/step - loss: 19575506.0000\n",
            "Epoch 138/500\n",
            "5/5 [==============================] - 0s 7ms/step - loss: 19507600.0000\n",
            "Epoch 139/500\n",
            "5/5 [==============================] - 0s 6ms/step - loss: 19465516.0000\n",
            "Epoch 140/500\n",
            "5/5 [==============================] - 0s 9ms/step - loss: 19378200.0000\n",
            "Epoch 141/500\n",
            "5/5 [==============================] - 0s 7ms/step - loss: 19315900.0000\n",
            "Epoch 142/500\n",
            "5/5 [==============================] - 0s 3ms/step - loss: 19249318.0000\n",
            "Epoch 143/500\n",
            "5/5 [==============================] - 0s 3ms/step - loss: 19188934.0000\n",
            "Epoch 144/500\n",
            "5/5 [==============================] - 0s 3ms/step - loss: 19135718.0000\n",
            "Epoch 145/500\n",
            "5/5 [==============================] - 0s 4ms/step - loss: 19060238.0000\n",
            "Epoch 146/500\n",
            "5/5 [==============================] - 0s 3ms/step - loss: 18994762.0000\n",
            "Epoch 147/500\n",
            "5/5 [==============================] - 0s 4ms/step - loss: 18941340.0000\n",
            "Epoch 148/500\n",
            "5/5 [==============================] - 0s 3ms/step - loss: 18874462.0000\n",
            "Epoch 149/500\n",
            "5/5 [==============================] - 0s 2ms/step - loss: 18815638.0000\n",
            "Epoch 150/500\n",
            "5/5 [==============================] - 0s 3ms/step - loss: 18762356.0000\n",
            "Epoch 151/500\n",
            "5/5 [==============================] - 0s 3ms/step - loss: 18697364.0000\n",
            "Epoch 152/500\n",
            "5/5 [==============================] - 0s 3ms/step - loss: 18636710.0000\n",
            "Epoch 153/500\n",
            "5/5 [==============================] - 0s 6ms/step - loss: 18565472.0000\n",
            "Epoch 154/500\n",
            "5/5 [==============================] - 0s 6ms/step - loss: 18507382.0000\n",
            "Epoch 155/500\n",
            "5/5 [==============================] - 0s 3ms/step - loss: 18438030.0000\n",
            "Epoch 156/500\n",
            "5/5 [==============================] - 0s 3ms/step - loss: 18381638.0000\n",
            "Epoch 157/500\n",
            "5/5 [==============================] - 0s 4ms/step - loss: 18324768.0000\n",
            "Epoch 158/500\n",
            "5/5 [==============================] - 0s 3ms/step - loss: 18254894.0000\n",
            "Epoch 159/500\n",
            "5/5 [==============================] - 0s 3ms/step - loss: 18196806.0000\n",
            "Epoch 160/500\n",
            "5/5 [==============================] - 0s 3ms/step - loss: 18140880.0000\n",
            "Epoch 161/500\n",
            "5/5 [==============================] - 0s 3ms/step - loss: 18081446.0000\n",
            "Epoch 162/500\n",
            "5/5 [==============================] - 0s 3ms/step - loss: 18018804.0000\n",
            "Epoch 163/500\n",
            "5/5 [==============================] - 0s 3ms/step - loss: 17959200.0000\n",
            "Epoch 164/500\n",
            "5/5 [==============================] - 0s 5ms/step - loss: 17895416.0000\n",
            "Epoch 165/500\n",
            "5/5 [==============================] - 0s 4ms/step - loss: 17845598.0000\n",
            "Epoch 166/500\n",
            "5/5 [==============================] - 0s 3ms/step - loss: 17782496.0000\n",
            "Epoch 167/500\n",
            "5/5 [==============================] - 0s 3ms/step - loss: 17719524.0000\n",
            "Epoch 168/500\n",
            "5/5 [==============================] - 0s 3ms/step - loss: 17656246.0000\n",
            "Epoch 169/500\n",
            "5/5 [==============================] - 0s 4ms/step - loss: 17597554.0000\n",
            "Epoch 170/500\n",
            "5/5 [==============================] - 0s 3ms/step - loss: 17544876.0000\n",
            "Epoch 171/500\n",
            "5/5 [==============================] - 0s 3ms/step - loss: 17483460.0000\n",
            "Epoch 172/500\n",
            "5/5 [==============================] - 0s 3ms/step - loss: 17426640.0000\n",
            "Epoch 173/500\n",
            "5/5 [==============================] - 0s 3ms/step - loss: 17365680.0000\n",
            "Epoch 174/500\n",
            "5/5 [==============================] - 0s 3ms/step - loss: 17306672.0000\n",
            "Epoch 175/500\n",
            "5/5 [==============================] - 0s 3ms/step - loss: 17248778.0000\n",
            "Epoch 176/500\n",
            "5/5 [==============================] - 0s 4ms/step - loss: 17180860.0000\n",
            "Epoch 177/500\n",
            "5/5 [==============================] - 0s 3ms/step - loss: 17129368.0000\n",
            "Epoch 178/500\n",
            "5/5 [==============================] - 0s 3ms/step - loss: 17075376.0000\n",
            "Epoch 179/500\n",
            "5/5 [==============================] - 0s 4ms/step - loss: 17010276.0000\n",
            "Epoch 180/500\n",
            "5/5 [==============================] - 0s 4ms/step - loss: 16961144.0000\n",
            "Epoch 181/500\n",
            "5/5 [==============================] - 0s 4ms/step - loss: 16911806.0000\n",
            "Epoch 182/500\n",
            "5/5 [==============================] - 0s 3ms/step - loss: 16843752.0000\n",
            "Epoch 183/500\n",
            "5/5 [==============================] - 0s 4ms/step - loss: 16795732.0000\n",
            "Epoch 184/500\n",
            "5/5 [==============================] - 0s 3ms/step - loss: 16726621.0000\n",
            "Epoch 185/500\n",
            "5/5 [==============================] - 0s 4ms/step - loss: 16677457.0000\n",
            "Epoch 186/500\n",
            "5/5 [==============================] - 0s 3ms/step - loss: 16623231.0000\n",
            "Epoch 187/500\n",
            "5/5 [==============================] - 0s 3ms/step - loss: 16560770.0000\n",
            "Epoch 188/500\n",
            "5/5 [==============================] - 0s 5ms/step - loss: 16501347.0000\n",
            "Epoch 189/500\n",
            "5/5 [==============================] - 0s 3ms/step - loss: 16442341.0000\n",
            "Epoch 190/500\n",
            "5/5 [==============================] - 0s 4ms/step - loss: 16391558.0000\n",
            "Epoch 191/500\n",
            "5/5 [==============================] - 0s 3ms/step - loss: 16326547.0000\n",
            "Epoch 192/500\n",
            "5/5 [==============================] - 0s 3ms/step - loss: 16277393.0000\n",
            "Epoch 193/500\n",
            "5/5 [==============================] - 0s 4ms/step - loss: 16221020.0000\n",
            "Epoch 194/500\n",
            "5/5 [==============================] - 0s 4ms/step - loss: 16160480.0000\n",
            "Epoch 195/500\n",
            "5/5 [==============================] - 0s 3ms/step - loss: 16100388.0000\n",
            "Epoch 196/500\n",
            "5/5 [==============================] - 0s 4ms/step - loss: 16047236.0000\n",
            "Epoch 197/500\n",
            "5/5 [==============================] - 0s 4ms/step - loss: 15996288.0000\n",
            "Epoch 198/500\n",
            "5/5 [==============================] - 0s 4ms/step - loss: 15946395.0000\n",
            "Epoch 199/500\n",
            "5/5 [==============================] - 0s 3ms/step - loss: 15887036.0000\n",
            "Epoch 200/500\n",
            "5/5 [==============================] - 0s 3ms/step - loss: 15827578.0000\n",
            "Epoch 201/500\n",
            "5/5 [==============================] - 0s 3ms/step - loss: 15770044.0000\n",
            "Epoch 202/500\n",
            "5/5 [==============================] - 0s 3ms/step - loss: 15713664.0000\n",
            "Epoch 203/500\n",
            "5/5 [==============================] - 0s 3ms/step - loss: 15663942.0000\n",
            "Epoch 204/500\n",
            "5/5 [==============================] - 0s 3ms/step - loss: 15615344.0000\n",
            "Epoch 205/500\n",
            "5/5 [==============================] - 0s 3ms/step - loss: 15561353.0000\n",
            "Epoch 206/500\n",
            "5/5 [==============================] - 0s 3ms/step - loss: 15501633.0000\n",
            "Epoch 207/500\n",
            "5/5 [==============================] - 0s 2ms/step - loss: 15460747.0000\n",
            "Epoch 208/500\n",
            "5/5 [==============================] - 0s 3ms/step - loss: 15396371.0000\n",
            "Epoch 209/500\n",
            "5/5 [==============================] - 0s 3ms/step - loss: 15339577.0000\n",
            "Epoch 210/500\n",
            "5/5 [==============================] - 0s 6ms/step - loss: 15289401.0000\n",
            "Epoch 211/500\n",
            "5/5 [==============================] - 0s 4ms/step - loss: 15237472.0000\n",
            "Epoch 212/500\n",
            "5/5 [==============================] - 0s 3ms/step - loss: 15178762.0000\n",
            "Epoch 213/500\n",
            "5/5 [==============================] - 0s 3ms/step - loss: 15128377.0000\n",
            "Epoch 214/500\n",
            "5/5 [==============================] - 0s 4ms/step - loss: 15071922.0000\n",
            "Epoch 215/500\n",
            "5/5 [==============================] - 0s 3ms/step - loss: 15027835.0000\n",
            "Epoch 216/500\n",
            "5/5 [==============================] - 0s 3ms/step - loss: 14974586.0000\n",
            "Epoch 217/500\n",
            "5/5 [==============================] - 0s 3ms/step - loss: 14919049.0000\n",
            "Epoch 218/500\n",
            "5/5 [==============================] - 0s 4ms/step - loss: 14881941.0000\n",
            "Epoch 219/500\n",
            "5/5 [==============================] - 0s 3ms/step - loss: 14817768.0000\n",
            "Epoch 220/500\n",
            "5/5 [==============================] - 0s 4ms/step - loss: 14767539.0000\n",
            "Epoch 221/500\n",
            "5/5 [==============================] - 0s 3ms/step - loss: 14717767.0000\n",
            "Epoch 222/500\n",
            "5/5 [==============================] - 0s 3ms/step - loss: 14664539.0000\n",
            "Epoch 223/500\n",
            "5/5 [==============================] - 0s 3ms/step - loss: 14613284.0000\n",
            "Epoch 224/500\n",
            "5/5 [==============================] - 0s 3ms/step - loss: 14563936.0000\n",
            "Epoch 225/500\n",
            "5/5 [==============================] - 0s 3ms/step - loss: 14513838.0000\n",
            "Epoch 226/500\n",
            "5/5 [==============================] - 0s 3ms/step - loss: 14458353.0000\n",
            "Epoch 227/500\n",
            "5/5 [==============================] - 0s 3ms/step - loss: 14402945.0000\n",
            "Epoch 228/500\n",
            "5/5 [==============================] - 0s 3ms/step - loss: 14363673.0000\n",
            "Epoch 229/500\n",
            "5/5 [==============================] - 0s 4ms/step - loss: 14307830.0000\n",
            "Epoch 230/500\n",
            "5/5 [==============================] - 0s 3ms/step - loss: 14263230.0000\n",
            "Epoch 231/500\n",
            "5/5 [==============================] - 0s 4ms/step - loss: 14209191.0000\n",
            "Epoch 232/500\n",
            "5/5 [==============================] - 0s 3ms/step - loss: 14159125.0000\n",
            "Epoch 233/500\n",
            "5/5 [==============================] - 0s 3ms/step - loss: 14107448.0000\n",
            "Epoch 234/500\n",
            "5/5 [==============================] - 0s 3ms/step - loss: 14061451.0000\n",
            "Epoch 235/500\n",
            "5/5 [==============================] - 0s 3ms/step - loss: 14009637.0000\n",
            "Epoch 236/500\n",
            "5/5 [==============================] - 0s 4ms/step - loss: 13960150.0000\n",
            "Epoch 237/500\n",
            "5/5 [==============================] - 0s 3ms/step - loss: 13917548.0000\n",
            "Epoch 238/500\n",
            "5/5 [==============================] - 0s 3ms/step - loss: 13861509.0000\n",
            "Epoch 239/500\n",
            "5/5 [==============================] - 0s 3ms/step - loss: 13818326.0000\n",
            "Epoch 240/500\n",
            "5/5 [==============================] - 0s 3ms/step - loss: 13763347.0000\n",
            "Epoch 241/500\n",
            "5/5 [==============================] - 0s 4ms/step - loss: 13716952.0000\n",
            "Epoch 242/500\n",
            "5/5 [==============================] - 0s 4ms/step - loss: 13663529.0000\n",
            "Epoch 243/500\n",
            "5/5 [==============================] - 0s 4ms/step - loss: 13616398.0000\n",
            "Epoch 244/500\n",
            "5/5 [==============================] - 0s 3ms/step - loss: 13579117.0000\n",
            "Epoch 245/500\n",
            "5/5 [==============================] - 0s 3ms/step - loss: 13520903.0000\n",
            "Epoch 246/500\n",
            "5/5 [==============================] - 0s 4ms/step - loss: 13472245.0000\n",
            "Epoch 247/500\n",
            "5/5 [==============================] - 0s 2ms/step - loss: 13419733.0000\n",
            "Epoch 248/500\n",
            "5/5 [==============================] - 0s 3ms/step - loss: 13377430.0000\n",
            "Epoch 249/500\n",
            "5/5 [==============================] - 0s 3ms/step - loss: 13325814.0000\n",
            "Epoch 250/500\n",
            "5/5 [==============================] - 0s 5ms/step - loss: 13287394.0000\n",
            "Epoch 251/500\n",
            "5/5 [==============================] - 0s 3ms/step - loss: 13233686.0000\n",
            "Epoch 252/500\n",
            "5/5 [==============================] - 0s 3ms/step - loss: 13181766.0000\n",
            "Epoch 253/500\n",
            "5/5 [==============================] - 0s 4ms/step - loss: 13138759.0000\n",
            "Epoch 254/500\n",
            "5/5 [==============================] - 0s 3ms/step - loss: 13088119.0000\n",
            "Epoch 255/500\n",
            "5/5 [==============================] - 0s 3ms/step - loss: 13054029.0000\n",
            "Epoch 256/500\n",
            "5/5 [==============================] - 0s 3ms/step - loss: 12992676.0000\n",
            "Epoch 257/500\n",
            "5/5 [==============================] - 0s 3ms/step - loss: 12945427.0000\n",
            "Epoch 258/500\n",
            "5/5 [==============================] - 0s 3ms/step - loss: 12899639.0000\n",
            "Epoch 259/500\n",
            "5/5 [==============================] - 0s 3ms/step - loss: 12865377.0000\n",
            "Epoch 260/500\n",
            "5/5 [==============================] - 0s 3ms/step - loss: 12818495.0000\n",
            "Epoch 261/500\n",
            "5/5 [==============================] - 0s 3ms/step - loss: 12764553.0000\n",
            "Epoch 262/500\n",
            "5/5 [==============================] - 0s 3ms/step - loss: 12721535.0000\n",
            "Epoch 263/500\n",
            "5/5 [==============================] - 0s 3ms/step - loss: 12676004.0000\n",
            "Epoch 264/500\n",
            "5/5 [==============================] - 0s 3ms/step - loss: 12621324.0000\n",
            "Epoch 265/500\n",
            "5/5 [==============================] - 0s 4ms/step - loss: 12578618.0000\n",
            "Epoch 266/500\n",
            "5/5 [==============================] - 0s 3ms/step - loss: 12534308.0000\n",
            "Epoch 267/500\n",
            "5/5 [==============================] - 0s 3ms/step - loss: 12492236.0000\n",
            "Epoch 268/500\n",
            "5/5 [==============================] - 0s 3ms/step - loss: 12444049.0000\n",
            "Epoch 269/500\n",
            "5/5 [==============================] - 0s 4ms/step - loss: 12403242.0000\n",
            "Epoch 270/500\n",
            "5/5 [==============================] - 0s 3ms/step - loss: 12354405.0000\n",
            "Epoch 271/500\n",
            "5/5 [==============================] - 0s 4ms/step - loss: 12312444.0000\n",
            "Epoch 272/500\n",
            "5/5 [==============================] - 0s 5ms/step - loss: 12276455.0000\n",
            "Epoch 273/500\n",
            "5/5 [==============================] - 0s 3ms/step - loss: 12222274.0000\n",
            "Epoch 274/500\n",
            "5/5 [==============================] - 0s 3ms/step - loss: 12176267.0000\n",
            "Epoch 275/500\n",
            "5/5 [==============================] - 0s 3ms/step - loss: 12132444.0000\n",
            "Epoch 276/500\n",
            "5/5 [==============================] - 0s 3ms/step - loss: 12089650.0000\n",
            "Epoch 277/500\n",
            "5/5 [==============================] - 0s 3ms/step - loss: 12043262.0000\n",
            "Epoch 278/500\n",
            "5/5 [==============================] - 0s 2ms/step - loss: 11991510.0000\n",
            "Epoch 279/500\n",
            "5/5 [==============================] - 0s 3ms/step - loss: 11956695.0000\n",
            "Epoch 280/500\n",
            "5/5 [==============================] - 0s 3ms/step - loss: 11905432.0000\n",
            "Epoch 281/500\n",
            "5/5 [==============================] - 0s 4ms/step - loss: 11856594.0000\n",
            "Epoch 282/500\n",
            "5/5 [==============================] - 0s 4ms/step - loss: 11818204.0000\n",
            "Epoch 283/500\n",
            "5/5 [==============================] - 0s 4ms/step - loss: 11775405.0000\n",
            "Epoch 284/500\n",
            "5/5 [==============================] - 0s 5ms/step - loss: 11724984.0000\n",
            "Epoch 285/500\n",
            "5/5 [==============================] - 0s 4ms/step - loss: 11683430.0000\n",
            "Epoch 286/500\n",
            "5/5 [==============================] - 0s 4ms/step - loss: 11648958.0000\n",
            "Epoch 287/500\n",
            "5/5 [==============================] - 0s 4ms/step - loss: 11599159.0000\n",
            "Epoch 288/500\n",
            "5/5 [==============================] - 0s 4ms/step - loss: 11557247.0000\n",
            "Epoch 289/500\n",
            "5/5 [==============================] - 0s 4ms/step - loss: 11510559.0000\n",
            "Epoch 290/500\n",
            "5/5 [==============================] - 0s 4ms/step - loss: 11471441.0000\n",
            "Epoch 291/500\n",
            "5/5 [==============================] - 0s 4ms/step - loss: 11424380.0000\n",
            "Epoch 292/500\n",
            "5/5 [==============================] - 0s 3ms/step - loss: 11379751.0000\n",
            "Epoch 293/500\n",
            "5/5 [==============================] - 0s 4ms/step - loss: 11338449.0000\n",
            "Epoch 294/500\n",
            "5/5 [==============================] - 0s 4ms/step - loss: 11296174.0000\n",
            "Epoch 295/500\n",
            "5/5 [==============================] - 0s 4ms/step - loss: 11245399.0000\n",
            "Epoch 296/500\n",
            "5/5 [==============================] - 0s 3ms/step - loss: 11228750.0000\n",
            "Epoch 297/500\n",
            "5/5 [==============================] - 0s 3ms/step - loss: 11163883.0000\n",
            "Epoch 298/500\n",
            "5/5 [==============================] - 0s 4ms/step - loss: 11121737.0000\n",
            "Epoch 299/500\n",
            "5/5 [==============================] - 0s 3ms/step - loss: 11083284.0000\n",
            "Epoch 300/500\n",
            "5/5 [==============================] - 0s 4ms/step - loss: 11039653.0000\n",
            "Epoch 301/500\n",
            "5/5 [==============================] - 0s 4ms/step - loss: 11007504.0000\n",
            "Epoch 302/500\n",
            "5/5 [==============================] - 0s 4ms/step - loss: 10957285.0000\n",
            "Epoch 303/500\n",
            "5/5 [==============================] - 0s 3ms/step - loss: 10930611.0000\n",
            "Epoch 304/500\n",
            "5/5 [==============================] - 0s 3ms/step - loss: 10900504.0000\n",
            "Epoch 305/500\n",
            "5/5 [==============================] - 0s 4ms/step - loss: 10834106.0000\n",
            "Epoch 306/500\n",
            "5/5 [==============================] - 0s 3ms/step - loss: 10795834.0000\n",
            "Epoch 307/500\n",
            "5/5 [==============================] - 0s 4ms/step - loss: 10766078.0000\n",
            "Epoch 308/500\n",
            "5/5 [==============================] - 0s 4ms/step - loss: 10708502.0000\n",
            "Epoch 309/500\n",
            "5/5 [==============================] - 0s 4ms/step - loss: 10672498.0000\n",
            "Epoch 310/500\n",
            "5/5 [==============================] - 0s 3ms/step - loss: 10629630.0000\n",
            "Epoch 311/500\n",
            "5/5 [==============================] - 0s 3ms/step - loss: 10594749.0000\n",
            "Epoch 312/500\n",
            "5/5 [==============================] - 0s 4ms/step - loss: 10547854.0000\n",
            "Epoch 313/500\n",
            "5/5 [==============================] - 0s 4ms/step - loss: 10508853.0000\n",
            "Epoch 314/500\n",
            "5/5 [==============================] - 0s 4ms/step - loss: 10471975.0000\n",
            "Epoch 315/500\n",
            "5/5 [==============================] - 0s 3ms/step - loss: 10429042.0000\n",
            "Epoch 316/500\n",
            "5/5 [==============================] - 0s 4ms/step - loss: 10391297.0000\n",
            "Epoch 317/500\n",
            "5/5 [==============================] - 0s 3ms/step - loss: 10352583.0000\n",
            "Epoch 318/500\n",
            "5/5 [==============================] - 0s 2ms/step - loss: 10310481.0000\n",
            "Epoch 319/500\n",
            "5/5 [==============================] - 0s 3ms/step - loss: 10276192.0000\n",
            "Epoch 320/500\n",
            "5/5 [==============================] - 0s 3ms/step - loss: 10233398.0000\n",
            "Epoch 321/500\n",
            "5/5 [==============================] - 0s 4ms/step - loss: 10195453.0000\n",
            "Epoch 322/500\n",
            "5/5 [==============================] - 0s 3ms/step - loss: 10155394.0000\n",
            "Epoch 323/500\n",
            "5/5 [==============================] - 0s 4ms/step - loss: 10115403.0000\n",
            "Epoch 324/500\n",
            "5/5 [==============================] - 0s 2ms/step - loss: 10075765.0000\n",
            "Epoch 325/500\n",
            "5/5 [==============================] - 0s 3ms/step - loss: 10045997.0000\n",
            "Epoch 326/500\n",
            "5/5 [==============================] - 0s 3ms/step - loss: 9998844.0000\n",
            "Epoch 327/500\n",
            "5/5 [==============================] - 0s 3ms/step - loss: 9965044.0000\n",
            "Epoch 328/500\n",
            "5/5 [==============================] - 0s 3ms/step - loss: 9927297.0000\n",
            "Epoch 329/500\n",
            "5/5 [==============================] - 0s 3ms/step - loss: 9887282.0000\n",
            "Epoch 330/500\n",
            "5/5 [==============================] - 0s 3ms/step - loss: 9848524.0000\n",
            "Epoch 331/500\n",
            "5/5 [==============================] - 0s 3ms/step - loss: 9812994.0000\n",
            "Epoch 332/500\n",
            "5/5 [==============================] - 0s 3ms/step - loss: 9770361.0000\n",
            "Epoch 333/500\n",
            "5/5 [==============================] - 0s 4ms/step - loss: 9733631.0000\n",
            "Epoch 334/500\n",
            "5/5 [==============================] - 0s 3ms/step - loss: 9704219.0000\n",
            "Epoch 335/500\n",
            "5/5 [==============================] - 0s 4ms/step - loss: 9659013.0000\n",
            "Epoch 336/500\n",
            "5/5 [==============================] - 0s 2ms/step - loss: 9630386.0000\n",
            "Epoch 337/500\n",
            "5/5 [==============================] - 0s 3ms/step - loss: 9581602.0000\n",
            "Epoch 338/500\n",
            "5/5 [==============================] - 0s 4ms/step - loss: 9543717.0000\n",
            "Epoch 339/500\n",
            "5/5 [==============================] - 0s 3ms/step - loss: 9513805.0000\n",
            "Epoch 340/500\n",
            "5/5 [==============================] - 0s 3ms/step - loss: 9477221.0000\n",
            "Epoch 341/500\n",
            "5/5 [==============================] - 0s 3ms/step - loss: 9440288.0000\n",
            "Epoch 342/500\n",
            "5/5 [==============================] - 0s 3ms/step - loss: 9396172.0000\n",
            "Epoch 343/500\n",
            "5/5 [==============================] - 0s 3ms/step - loss: 9363575.0000\n",
            "Epoch 344/500\n",
            "5/5 [==============================] - 0s 2ms/step - loss: 9332643.0000\n",
            "Epoch 345/500\n",
            "5/5 [==============================] - 0s 2ms/step - loss: 9289328.0000\n",
            "Epoch 346/500\n",
            "5/5 [==============================] - 0s 3ms/step - loss: 9252220.0000\n",
            "Epoch 347/500\n",
            "5/5 [==============================] - 0s 3ms/step - loss: 9220771.0000\n",
            "Epoch 348/500\n",
            "5/5 [==============================] - 0s 2ms/step - loss: 9179586.0000\n",
            "Epoch 349/500\n",
            "5/5 [==============================] - 0s 3ms/step - loss: 9143044.0000\n",
            "Epoch 350/500\n",
            "5/5 [==============================] - 0s 2ms/step - loss: 9136311.0000\n",
            "Epoch 351/500\n",
            "5/5 [==============================] - 0s 3ms/step - loss: 9070537.0000\n",
            "Epoch 352/500\n",
            "5/5 [==============================] - 0s 2ms/step - loss: 9039836.0000\n",
            "Epoch 353/500\n",
            "5/5 [==============================] - 0s 4ms/step - loss: 8995954.0000\n",
            "Epoch 354/500\n",
            "5/5 [==============================] - 0s 3ms/step - loss: 8967184.0000\n",
            "Epoch 355/500\n",
            "5/5 [==============================] - 0s 3ms/step - loss: 8927484.0000\n",
            "Epoch 356/500\n",
            "5/5 [==============================] - 0s 3ms/step - loss: 8893375.0000\n",
            "Epoch 357/500\n",
            "5/5 [==============================] - 0s 3ms/step - loss: 8853191.0000\n",
            "Epoch 358/500\n",
            "5/5 [==============================] - 0s 3ms/step - loss: 8824214.0000\n",
            "Epoch 359/500\n",
            "5/5 [==============================] - 0s 3ms/step - loss: 8786932.0000\n",
            "Epoch 360/500\n",
            "5/5 [==============================] - 0s 3ms/step - loss: 8751454.0000\n",
            "Epoch 361/500\n",
            "5/5 [==============================] - 0s 3ms/step - loss: 8720077.0000\n",
            "Epoch 362/500\n",
            "5/5 [==============================] - 0s 3ms/step - loss: 8682210.0000\n",
            "Epoch 363/500\n",
            "5/5 [==============================] - 0s 3ms/step - loss: 8652218.0000\n",
            "Epoch 364/500\n",
            "5/5 [==============================] - 0s 3ms/step - loss: 8612905.0000\n",
            "Epoch 365/500\n",
            "5/5 [==============================] - 0s 2ms/step - loss: 8585675.0000\n",
            "Epoch 366/500\n",
            "5/5 [==============================] - 0s 2ms/step - loss: 8554825.0000\n",
            "Epoch 367/500\n",
            "5/5 [==============================] - 0s 3ms/step - loss: 8513064.0000\n",
            "Epoch 368/500\n",
            "5/5 [==============================] - 0s 3ms/step - loss: 8483386.0000\n",
            "Epoch 369/500\n",
            "5/5 [==============================] - 0s 3ms/step - loss: 8455448.0000\n",
            "Epoch 370/500\n",
            "5/5 [==============================] - 0s 3ms/step - loss: 8417425.0000\n",
            "Epoch 371/500\n",
            "5/5 [==============================] - 0s 2ms/step - loss: 8381539.5000\n",
            "Epoch 372/500\n",
            "5/5 [==============================] - 0s 4ms/step - loss: 8349574.0000\n",
            "Epoch 373/500\n",
            "5/5 [==============================] - 0s 3ms/step - loss: 8316940.5000\n",
            "Epoch 374/500\n",
            "5/5 [==============================] - 0s 3ms/step - loss: 8281561.0000\n",
            "Epoch 375/500\n",
            "5/5 [==============================] - 0s 3ms/step - loss: 8248392.0000\n",
            "Epoch 376/500\n",
            "5/5 [==============================] - 0s 3ms/step - loss: 8234042.5000\n",
            "Epoch 377/500\n",
            "5/5 [==============================] - 0s 3ms/step - loss: 8191937.0000\n",
            "Epoch 378/500\n",
            "5/5 [==============================] - 0s 3ms/step - loss: 8152844.0000\n",
            "Epoch 379/500\n",
            "5/5 [==============================] - 0s 3ms/step - loss: 8124846.5000\n",
            "Epoch 380/500\n",
            "5/5 [==============================] - 0s 2ms/step - loss: 8095167.5000\n",
            "Epoch 381/500\n",
            "5/5 [==============================] - 0s 3ms/step - loss: 8056313.0000\n",
            "Epoch 382/500\n",
            "5/5 [==============================] - 0s 3ms/step - loss: 8038006.5000\n",
            "Epoch 383/500\n",
            "5/5 [==============================] - 0s 3ms/step - loss: 7993006.0000\n",
            "Epoch 384/500\n",
            "5/5 [==============================] - 0s 5ms/step - loss: 7964705.5000\n",
            "Epoch 385/500\n",
            "5/5 [==============================] - 0s 4ms/step - loss: 7943158.0000\n",
            "Epoch 386/500\n",
            "5/5 [==============================] - 0s 5ms/step - loss: 7903028.0000\n",
            "Epoch 387/500\n",
            "5/5 [==============================] - 0s 4ms/step - loss: 7871605.0000\n",
            "Epoch 388/500\n",
            "5/5 [==============================] - 0s 4ms/step - loss: 7848696.0000\n",
            "Epoch 389/500\n",
            "5/5 [==============================] - 0s 3ms/step - loss: 7812701.0000\n",
            "Epoch 390/500\n",
            "5/5 [==============================] - 0s 4ms/step - loss: 7783892.5000\n",
            "Epoch 391/500\n",
            "5/5 [==============================] - 0s 4ms/step - loss: 7752850.5000\n",
            "Epoch 392/500\n",
            "5/5 [==============================] - 0s 4ms/step - loss: 7723191.5000\n",
            "Epoch 393/500\n",
            "5/5 [==============================] - 0s 3ms/step - loss: 7694094.5000\n",
            "Epoch 394/500\n",
            "5/5 [==============================] - 0s 4ms/step - loss: 7659883.0000\n",
            "Epoch 395/500\n",
            "5/5 [==============================] - 0s 3ms/step - loss: 7636892.5000\n",
            "Epoch 396/500\n",
            "5/5 [==============================] - 0s 4ms/step - loss: 7605731.5000\n",
            "Epoch 397/500\n",
            "5/5 [==============================] - 0s 3ms/step - loss: 7570256.0000\n",
            "Epoch 398/500\n",
            "5/5 [==============================] - 0s 3ms/step - loss: 7542357.0000\n",
            "Epoch 399/500\n",
            "5/5 [==============================] - 0s 3ms/step - loss: 7509791.5000\n",
            "Epoch 400/500\n",
            "5/5 [==============================] - 0s 3ms/step - loss: 7479713.0000\n",
            "Epoch 401/500\n",
            "5/5 [==============================] - 0s 3ms/step - loss: 7452953.5000\n",
            "Epoch 402/500\n",
            "5/5 [==============================] - 0s 3ms/step - loss: 7429135.5000\n",
            "Epoch 403/500\n",
            "5/5 [==============================] - 0s 3ms/step - loss: 7397201.5000\n",
            "Epoch 404/500\n",
            "5/5 [==============================] - 0s 3ms/step - loss: 7366043.5000\n",
            "Epoch 405/500\n",
            "5/5 [==============================] - 0s 4ms/step - loss: 7336053.5000\n",
            "Epoch 406/500\n",
            "5/5 [==============================] - 0s 3ms/step - loss: 7314900.0000\n",
            "Epoch 407/500\n",
            "5/5 [==============================] - 0s 2ms/step - loss: 7278137.0000\n",
            "Epoch 408/500\n",
            "5/5 [==============================] - 0s 2ms/step - loss: 7255590.0000\n",
            "Epoch 409/500\n",
            "5/5 [==============================] - 0s 3ms/step - loss: 7223365.0000\n",
            "Epoch 410/500\n",
            "5/5 [==============================] - 0s 3ms/step - loss: 7198082.0000\n",
            "Epoch 411/500\n",
            "5/5 [==============================] - 0s 3ms/step - loss: 7164921.0000\n",
            "Epoch 412/500\n",
            "5/5 [==============================] - 0s 3ms/step - loss: 7136652.0000\n",
            "Epoch 413/500\n",
            "5/5 [==============================] - 0s 3ms/step - loss: 7113768.5000\n",
            "Epoch 414/500\n",
            "5/5 [==============================] - 0s 3ms/step - loss: 7083249.0000\n",
            "Epoch 415/500\n",
            "5/5 [==============================] - 0s 3ms/step - loss: 7062775.5000\n",
            "Epoch 416/500\n",
            "5/5 [==============================] - 0s 3ms/step - loss: 7027875.5000\n",
            "Epoch 417/500\n",
            "5/5 [==============================] - 0s 4ms/step - loss: 7002654.0000\n",
            "Epoch 418/500\n",
            "5/5 [==============================] - 0s 3ms/step - loss: 6968504.0000\n",
            "Epoch 419/500\n",
            "5/5 [==============================] - 0s 3ms/step - loss: 6942576.5000\n",
            "Epoch 420/500\n",
            "5/5 [==============================] - 0s 4ms/step - loss: 6917596.0000\n",
            "Epoch 421/500\n",
            "5/5 [==============================] - 0s 3ms/step - loss: 6888608.5000\n",
            "Epoch 422/500\n",
            "5/5 [==============================] - 0s 2ms/step - loss: 6860263.0000\n",
            "Epoch 423/500\n",
            "5/5 [==============================] - 0s 4ms/step - loss: 6837909.0000\n",
            "Epoch 424/500\n",
            "5/5 [==============================] - 0s 3ms/step - loss: 6804926.0000\n",
            "Epoch 425/500\n",
            "5/5 [==============================] - 0s 3ms/step - loss: 6779164.5000\n",
            "Epoch 426/500\n",
            "5/5 [==============================] - 0s 3ms/step - loss: 6758567.0000\n",
            "Epoch 427/500\n",
            "5/5 [==============================] - 0s 4ms/step - loss: 6729987.0000\n",
            "Epoch 428/500\n",
            "5/5 [==============================] - 0s 3ms/step - loss: 6701378.0000\n",
            "Epoch 429/500\n",
            "5/5 [==============================] - 0s 3ms/step - loss: 6677051.0000\n",
            "Epoch 430/500\n",
            "5/5 [==============================] - 0s 2ms/step - loss: 6650463.0000\n",
            "Epoch 431/500\n",
            "5/5 [==============================] - 0s 2ms/step - loss: 6627248.5000\n",
            "Epoch 432/500\n",
            "5/5 [==============================] - 0s 3ms/step - loss: 6593892.5000\n",
            "Epoch 433/500\n",
            "5/5 [==============================] - 0s 4ms/step - loss: 6571089.5000\n",
            "Epoch 434/500\n",
            "5/5 [==============================] - 0s 3ms/step - loss: 6547121.5000\n",
            "Epoch 435/500\n",
            "5/5 [==============================] - 0s 4ms/step - loss: 6520611.0000\n",
            "Epoch 436/500\n",
            "5/5 [==============================] - 0s 3ms/step - loss: 6493640.5000\n",
            "Epoch 437/500\n",
            "5/5 [==============================] - 0s 3ms/step - loss: 6468948.0000\n",
            "Epoch 438/500\n",
            "5/5 [==============================] - 0s 3ms/step - loss: 6446765.5000\n",
            "Epoch 439/500\n",
            "5/5 [==============================] - 0s 5ms/step - loss: 6422927.5000\n",
            "Epoch 440/500\n",
            "5/5 [==============================] - 0s 3ms/step - loss: 6396474.0000\n",
            "Epoch 441/500\n",
            "5/5 [==============================] - 0s 2ms/step - loss: 6376639.5000\n",
            "Epoch 442/500\n",
            "5/5 [==============================] - 0s 3ms/step - loss: 6347549.0000\n",
            "Epoch 443/500\n",
            "5/5 [==============================] - 0s 3ms/step - loss: 6347482.0000\n",
            "Epoch 444/500\n",
            "5/5 [==============================] - 0s 3ms/step - loss: 6299372.0000\n",
            "Epoch 445/500\n",
            "5/5 [==============================] - 0s 3ms/step - loss: 6275306.5000\n",
            "Epoch 446/500\n",
            "5/5 [==============================] - 0s 3ms/step - loss: 6248614.5000\n",
            "Epoch 447/500\n",
            "5/5 [==============================] - 0s 4ms/step - loss: 6227212.0000\n",
            "Epoch 448/500\n",
            "5/5 [==============================] - 0s 3ms/step - loss: 6208056.0000\n",
            "Epoch 449/500\n",
            "5/5 [==============================] - 0s 2ms/step - loss: 6186135.5000\n",
            "Epoch 450/500\n",
            "5/5 [==============================] - 0s 4ms/step - loss: 6156267.0000\n",
            "Epoch 451/500\n",
            "5/5 [==============================] - 0s 3ms/step - loss: 6133689.0000\n",
            "Epoch 452/500\n",
            "5/5 [==============================] - 0s 3ms/step - loss: 6107963.0000\n",
            "Epoch 453/500\n",
            "5/5 [==============================] - 0s 3ms/step - loss: 6080250.0000\n",
            "Epoch 454/500\n",
            "5/5 [==============================] - 0s 3ms/step - loss: 6056988.5000\n",
            "Epoch 455/500\n",
            "5/5 [==============================] - 0s 3ms/step - loss: 6034905.5000\n",
            "Epoch 456/500\n",
            "5/5 [==============================] - 0s 3ms/step - loss: 6015520.5000\n",
            "Epoch 457/500\n",
            "5/5 [==============================] - 0s 3ms/step - loss: 5985329.0000\n",
            "Epoch 458/500\n",
            "5/5 [==============================] - 0s 4ms/step - loss: 5965128.0000\n",
            "Epoch 459/500\n",
            "5/5 [==============================] - 0s 3ms/step - loss: 5952296.0000\n",
            "Epoch 460/500\n",
            "5/5 [==============================] - 0s 3ms/step - loss: 5919615.0000\n",
            "Epoch 461/500\n",
            "5/5 [==============================] - 0s 3ms/step - loss: 5895098.0000\n",
            "Epoch 462/500\n",
            "5/5 [==============================] - 0s 3ms/step - loss: 5875456.0000\n",
            "Epoch 463/500\n",
            "5/5 [==============================] - 0s 3ms/step - loss: 5850713.5000\n",
            "Epoch 464/500\n",
            "5/5 [==============================] - 0s 3ms/step - loss: 5830796.0000\n",
            "Epoch 465/500\n",
            "5/5 [==============================] - 0s 3ms/step - loss: 5809641.0000\n",
            "Epoch 466/500\n",
            "5/5 [==============================] - 0s 3ms/step - loss: 5787476.0000\n",
            "Epoch 467/500\n",
            "5/5 [==============================] - 0s 3ms/step - loss: 5766654.0000\n",
            "Epoch 468/500\n",
            "5/5 [==============================] - 0s 4ms/step - loss: 5744977.0000\n",
            "Epoch 469/500\n",
            "5/5 [==============================] - 0s 4ms/step - loss: 5723876.5000\n",
            "Epoch 470/500\n",
            "5/5 [==============================] - 0s 3ms/step - loss: 5703203.0000\n",
            "Epoch 471/500\n",
            "5/5 [==============================] - 0s 4ms/step - loss: 5682824.0000\n",
            "Epoch 472/500\n",
            "5/5 [==============================] - 0s 4ms/step - loss: 5659794.5000\n",
            "Epoch 473/500\n",
            "5/5 [==============================] - 0s 4ms/step - loss: 5637963.0000\n",
            "Epoch 474/500\n",
            "5/5 [==============================] - 0s 4ms/step - loss: 5620695.5000\n",
            "Epoch 475/500\n",
            "5/5 [==============================] - 0s 3ms/step - loss: 5590771.5000\n",
            "Epoch 476/500\n",
            "5/5 [==============================] - 0s 4ms/step - loss: 5579640.5000\n",
            "Epoch 477/500\n",
            "5/5 [==============================] - 0s 3ms/step - loss: 5556127.0000\n",
            "Epoch 478/500\n",
            "5/5 [==============================] - 0s 4ms/step - loss: 5531691.0000\n",
            "Epoch 479/500\n",
            "5/5 [==============================] - 0s 4ms/step - loss: 5513945.0000\n",
            "Epoch 480/500\n",
            "5/5 [==============================] - 0s 4ms/step - loss: 5488521.5000\n",
            "Epoch 481/500\n",
            "5/5 [==============================] - 0s 6ms/step - loss: 5471612.5000\n",
            "Epoch 482/500\n",
            "5/5 [==============================] - 0s 5ms/step - loss: 5447484.5000\n",
            "Epoch 483/500\n",
            "5/5 [==============================] - 0s 4ms/step - loss: 5428098.0000\n",
            "Epoch 484/500\n",
            "5/5 [==============================] - 0s 4ms/step - loss: 5407762.0000\n",
            "Epoch 485/500\n",
            "5/5 [==============================] - 0s 4ms/step - loss: 5394944.5000\n",
            "Epoch 486/500\n",
            "5/5 [==============================] - 0s 5ms/step - loss: 5373153.0000\n",
            "Epoch 487/500\n",
            "5/5 [==============================] - 0s 4ms/step - loss: 5347315.5000\n",
            "Epoch 488/500\n",
            "5/5 [==============================] - 0s 4ms/step - loss: 5332460.0000\n",
            "Epoch 489/500\n",
            "5/5 [==============================] - 0s 4ms/step - loss: 5304730.0000\n",
            "Epoch 490/500\n",
            "5/5 [==============================] - 0s 3ms/step - loss: 5285397.5000\n",
            "Epoch 491/500\n",
            "5/5 [==============================] - 0s 3ms/step - loss: 5263996.5000\n",
            "Epoch 492/500\n",
            "5/5 [==============================] - 0s 3ms/step - loss: 5257065.0000\n",
            "Epoch 493/500\n",
            "5/5 [==============================] - 0s 3ms/step - loss: 5227786.0000\n",
            "Epoch 494/500\n",
            "5/5 [==============================] - 0s 3ms/step - loss: 5205227.0000\n",
            "Epoch 495/500\n",
            "5/5 [==============================] - 0s 3ms/step - loss: 5189662.5000\n",
            "Epoch 496/500\n",
            "5/5 [==============================] - 0s 3ms/step - loss: 5167099.0000\n",
            "Epoch 497/500\n",
            "5/5 [==============================] - 0s 3ms/step - loss: 5147088.5000\n",
            "Epoch 498/500\n",
            "5/5 [==============================] - 0s 3ms/step - loss: 5130553.0000\n",
            "Epoch 499/500\n",
            "5/5 [==============================] - 0s 3ms/step - loss: 5110668.0000\n",
            "Epoch 500/500\n",
            "5/5 [==============================] - 0s 3ms/step - loss: 5101639.0000\n"
          ]
        }
      ]
    },
    {
      "cell_type": "code",
      "source": [
        "mse = model.evaluate(X_train, y_train)\n",
        "print('MSE: %.2f' % (mse))"
      ],
      "metadata": {
        "colab": {
          "base_uri": "https://localhost:8080/"
        },
        "id": "wVealaEqOO_l",
        "outputId": "13b38cda-2004-4613-9ea3-57e9cf876125"
      },
      "execution_count": 65,
      "outputs": [
        {
          "output_type": "stream",
          "name": "stdout",
          "text": [
            "4/4 [==============================] - 0s 3ms/step - loss: 5078912.5000\n",
            "MSE: 5078912.50\n"
          ]
        }
      ]
    },
    {
      "cell_type": "code",
      "source": [
        "plt.plot(history.history['loss'])\n",
        "plt.title('Pérdida')\n",
        "plt.xlabel('Época')\n",
        "plt.ylabel('Pérdida')\n",
        "plt.show()"
      ],
      "metadata": {
        "colab": {
          "base_uri": "https://localhost:8080/",
          "height": 297
        },
        "id": "Y86phuapkKSa",
        "outputId": "8fe45c10-3117-4f62-d16e-402ae03d484b"
      },
      "execution_count": 68,
      "outputs": [
        {
          "output_type": "display_data",
          "data": {
            "text/plain": [
              "<Figure size 432x288 with 1 Axes>"
            ],
            "image/png": "[encoded data removed]"
          },
          "metadata": {
            "needs_background": "light"
          }
        }
      ]
    }
  ]
}